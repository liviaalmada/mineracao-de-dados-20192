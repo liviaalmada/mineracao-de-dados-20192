{
 "cells": [
  {
   "cell_type": "markdown",
   "metadata": {},
   "source": [
    "# Module 2: Introduction to Numpy and Pandas\n",
    "\n",
    "The following tutorial contains examples of using the numpy and pandas library modules. The notebook can be downloaded from http://www.cse.msu.edu/~ptan/dmbook/tutorials/tutorial2/tutorial2.ipynb. Read the step-by-step instructions below carefully. To execute the code, click on the cell and press the SHIFT-ENTER keys simultaneously."
   ]
  },
  {
   "cell_type": "markdown",
   "metadata": {},
   "source": [
    "## Numpy\n",
    "\n",
    "Numpy, que significa Python numérico, é um pacote de biblioteca Python para suportar cálculos numéricos. A estrutura de dados básica em numpy é um objeto de matriz multidimensional chamado ndarray. O Numpy fornece um conjunto de funções que podem manipular eficientemente os elementos do ndarray.\n",
    "\n",
    "### Criando um array\n",
    "\n",
    "Um ndarray pode ser criado a partir de uma lista ou objeto de tupla."
   ]
  },
  {
   "cell_type": "code",
   "execution_count": 3,
   "metadata": {},
   "outputs": [
    {
     "name": "stdout",
     "output_type": "stream",
     "text": [
      "[1. 2. 3. 4. 5.]\n",
      "#Dimensions = 1\n",
      "Dimension = (5,)\n",
      "Size = 5\n",
      "Array type = float32\n",
      "[[1 2]\n",
      " [3 4]\n",
      " [5 6]\n",
      " [7 8]]\n",
      "#Dimensions = 2\n",
      "Dimension = (4, 2)\n",
      "Size = 8\n",
      "Array type = int32\n",
      "[['1' 'a' '3.0']\n",
      " ['2' 'b' '3.5']]\n",
      "#Dimensions = 2\n",
      "Dimension = (2, 3)\n",
      "Size = 6\n",
      "Array type = <U11\n"
     ]
    }
   ],
   "source": [
    "import numpy as np\n",
    "\n",
    "oneDim = np.array([1.0,2,3,4,5], dtype='float32')   # a 1-dimensional array (vector)\n",
    "print(oneDim)\n",
    "print(\"#Dimensions =\", oneDim.ndim)\n",
    "print(\"Dimension =\", oneDim.shape)\n",
    "print(\"Size =\", oneDim.size)\n",
    "print(\"Array type =\", oneDim.dtype)\n",
    "\n",
    "twoDim = np.array([[1,2],[3,4],[5,6],[7,8]])  # a two-dimensional array (matrix)\n",
    "print(twoDim)\n",
    "print(\"#Dimensions =\", twoDim.ndim)\n",
    "print(\"Dimension =\", twoDim.shape)\n",
    "print(\"Size =\", twoDim.size)\n",
    "print(\"Array type =\", twoDim.dtype)\n",
    "\n",
    "arrFromTuple = np.array([(1,'a',3.0),(2,'b',3.5)])  # create ndarray from tuple\n",
    "print(arrFromTuple)\n",
    "print(\"#Dimensions =\", arrFromTuple.ndim)\n",
    "print(\"Dimension =\", arrFromTuple.shape)\n",
    "print(\"Size =\", arrFromTuple.size)\n",
    "print(\"Array type =\", arrFromTuple.dtype)"
   ]
  },
  {
   "cell_type": "markdown",
   "metadata": {},
   "source": [
    "Existem várias funções embutidas no numpy que podem ser usadas para criar ndarrays"
   ]
  },
  {
   "cell_type": "code",
   "execution_count": 4,
   "metadata": {},
   "outputs": [
    {
     "name": "stdout",
     "output_type": "stream",
     "text": [
      "[0.93904842 0.20364639 0.2803045  0.35736232 0.28940219]\n",
      "[ 0.49345245 -0.31898259 -1.31237174 -0.09731761  1.25490186]\n",
      "[-10  -8  -6  -4  -2   0   2   4   6   8]\n",
      "[[ 0  1  2  3]\n",
      " [ 4  5  6  7]\n",
      " [ 8  9 10 11]]\n",
      "[0.         0.11111111 0.22222222 0.33333333 0.44444444 0.55555556\n",
      " 0.66666667 0.77777778 0.88888889 1.        ]\n",
      "[1.e-03 1.e-02 1.e-01 1.e+00 1.e+01 1.e+02 1.e+03]\n"
     ]
    }
   ],
   "source": [
    "print(np.random.rand(5))      # random numbers from a uniform distribution between [0,1]\n",
    "print(np.random.randn(5))     # random numbers from a normal distribution\n",
    "print(np.arange(-10,10,2))    # similar to range, but returns ndarray instead of list\n",
    "print(np.arange(12).reshape(3,4))  # reshape to a matrix\n",
    "print(np.linspace(0,1,10))    # split interval [0,1] into 10 equally separated values\n",
    "print(np.logspace(-3,3,7))    # create ndarray with values from 10^-3 to 10^3"
   ]
  },
  {
   "cell_type": "code",
   "execution_count": 5,
   "metadata": {},
   "outputs": [
    {
     "name": "stdout",
     "output_type": "stream",
     "text": [
      "[[0. 0. 0.]\n",
      " [0. 0. 0.]]\n",
      "[[1. 1.]\n",
      " [1. 1.]\n",
      " [1. 1.]]\n",
      "[[1. 0. 0.]\n",
      " [0. 1. 0.]\n",
      " [0. 0. 1.]]\n"
     ]
    }
   ],
   "source": [
    "print(np.zeros((2,3)))        # a matrix of zeros\n",
    "print(np.ones((3,2)))         # a matrix of ones\n",
    "print(np.eye(3))              # a 3 x 3 identity matrix"
   ]
  },
  {
   "cell_type": "markdown",
   "metadata": {},
   "source": [
    "## Operações Element-wise \n",
    "\n",
    "Você pode aplicar operadores padrão, como adição e multiplicação em cada elemento do ndarray."
   ]
  },
  {
   "cell_type": "code",
   "execution_count": 6,
   "metadata": {},
   "outputs": [
    {
     "name": "stdout",
     "output_type": "stream",
     "text": [
      "[2 3 4 5 6]\n",
      "[0 1 2 3 4]\n",
      "[ 2  4  6  8 10]\n",
      "[0 1 1 2 2]\n",
      "[ 1  4  9 16 25]\n",
      "[1 0 1 0 1]\n",
      "[1.         0.5        0.33333333 0.25       0.2       ]\n"
     ]
    }
   ],
   "source": [
    "x = np.array([1,2,3,4,5])\n",
    "\n",
    "print(x + 1)      # addition\n",
    "print(x - 1)      # subtraction\n",
    "print(x * 2)      # multiplication\n",
    "print(x // 2)     # integer division\n",
    "print(x ** 2)     # square\n",
    "print(x % 2)      # modulo  \n",
    "print(1 / x)      # division"
   ]
  },
  {
   "cell_type": "code",
   "execution_count": 7,
   "metadata": {},
   "outputs": [
    {
     "name": "stdout",
     "output_type": "stream",
     "text": [
      "[ 3  6  9 12 15]\n",
      "[1 2 3 4 5]\n",
      "[ 2  8 18 32 50]\n",
      "[2. 2. 2. 2. 2.]\n",
      "[2 2 2 2 2]\n",
      "[     2     16    216   4096 100000]\n"
     ]
    }
   ],
   "source": [
    "x = np.array([2,4,6,8,10])\n",
    "y = np.array([1,2,3,4,5])\n",
    "\n",
    "print(x + y)\n",
    "print(x - y)\n",
    "print(x * y)\n",
    "print(x / y)\n",
    "print(x // y)\n",
    "print(x ** y)"
   ]
  },
  {
   "cell_type": "markdown",
   "metadata": {},
   "source": [
    "## Indexing and Slicing\n",
    "\n",
    "Existem várias maneiras de selecionar certos elementos com um ndarray."
   ]
  },
  {
   "cell_type": "code",
   "execution_count": 8,
   "metadata": {},
   "outputs": [
    {
     "name": "stdout",
     "output_type": "stream",
     "text": [
      "[-5 -4 -3 -2 -1  0  1  2  3  4]\n",
      "[-2 -1]\n",
      "[1000 1000]\n",
      "[  -5   -4   -3 1000 1000    0    1    2    3    4]\n",
      "[1000 1000]\n",
      "[500 500]\n",
      "[  -5   -4   -3 1000 1000    0    1    2    3    4]\n"
     ]
    }
   ],
   "source": [
    "x = np.arange(-5,5)\n",
    "print(x)\n",
    "\n",
    "y = x[3:5]     # y is a slice, i.e., pointer to a subarray in x\n",
    "print(y)\n",
    "y[:] = 1000    # modifying the value of y will change x\n",
    "print(y)\n",
    "print(x)\n",
    "\n",
    "z = x[3:5].copy()   # makes a copy of the subarray\n",
    "print(z)\n",
    "z[:] = 500          # modifying the value of z will not affect x\n",
    "print(z)\n",
    "print(x)"
   ]
  },
  {
   "cell_type": "code",
   "execution_count": 10,
   "metadata": {},
   "outputs": [
    {
     "name": "stdout",
     "output_type": "stream",
     "text": [
      "[[1, 2, 3, 4], [5, 6, 7, 8], [9, 10, 11, 12]]\n",
      "[9, 10, 11, 12]\n",
      "[9, 10, 11, 12]\n"
     ]
    }
   ],
   "source": [
    "my2dlist = [[1,2,3,4],[5,6,7,8],[9,10,11,12]]   # a 2-dim list\n",
    "print(my2dlist)\n",
    "print(my2dlist[2])        # access the third sublist\n",
    "print(my2dlist[:][2])     # can't access third element of each sublist\n",
    "# print(my2dlist[:,2])    # this will cause syntax error\n",
    "\n",
    "    # access the first two rows & last two columns"
   ]
  },
  {
   "cell_type": "code",
   "execution_count": 11,
   "metadata": {},
   "outputs": [
    {
     "name": "stdout",
     "output_type": "stream",
     "text": [
      "[[ 1  2  3  4]\n",
      " [ 5  6  7  8]\n",
      " [ 9 10 11 12]]\n",
      "[ 9 10 11 12]\n",
      "[ 9 10 11 12]\n"
     ]
    }
   ],
   "source": [
    "my2darr = np.array(my2dlist)\n",
    "print(my2darr)\n",
    "print(my2darr[2][:])      # access the third row\n",
    "print(my2darr[2,:])       # access the third row\n"
   ]
  },
  {
   "cell_type": "code",
   "execution_count": 13,
   "metadata": {},
   "outputs": [
    {
     "name": "stdout",
     "output_type": "stream",
     "text": [
      "[ 9 10 11 12]\n",
      "[ 3  7 11]\n",
      "[[3 4]\n",
      " [7 8]]\n"
     ]
    }
   ],
   "source": [
    "print(my2darr[:][2])      # access the third row (similar to 2d list)\n",
    "print(my2darr[:,2])       # access the third column\n",
    "print(my2darr[:2,2:]) "
   ]
  },
  {
   "cell_type": "markdown",
   "metadata": {},
   "source": [
    "O ndarray também suporta indexação booleana."
   ]
  },
  {
   "cell_type": "code",
   "execution_count": 14,
   "metadata": {},
   "outputs": [
    {
     "name": "stdout",
     "output_type": "stream",
     "text": [
      "[[ 1  2  3  4]\n",
      " [ 5  6  7  8]\n",
      " [ 9 10 11 12]]\n"
     ]
    }
   ],
   "source": [
    "my2darr = np.arange(1,13,1).reshape(3,4)\n",
    "print(my2darr)\n"
   ]
  },
  {
   "cell_type": "code",
   "execution_count": 15,
   "metadata": {},
   "outputs": [
    {
     "data": {
      "text/plain": [
       "array([[False, False,  True, False],\n",
       "       [False,  True, False, False],\n",
       "       [ True, False, False,  True]])"
      ]
     },
     "execution_count": 15,
     "metadata": {},
     "output_type": "execute_result"
    }
   ],
   "source": [
    "my2darr % 3 == 0"
   ]
  },
  {
   "cell_type": "code",
   "execution_count": 16,
   "metadata": {},
   "outputs": [
    {
     "name": "stdout",
     "output_type": "stream",
     "text": [
      "[ 3  6  9 12] <class 'numpy.ndarray'>\n"
     ]
    }
   ],
   "source": [
    "divBy3 = my2darr[my2darr % 3 == 0]\n",
    "print(divBy3, type(divBy3))"
   ]
  },
  {
   "cell_type": "code",
   "execution_count": 17,
   "metadata": {},
   "outputs": [
    {
     "name": "stdout",
     "output_type": "stream",
     "text": [
      "[[ 9 12]]\n"
     ]
    }
   ],
   "source": [
    "divBy3LastRow = my2darr[2:, my2darr[2,:] % 3 == 0]\n",
    "print(divBy3LastRow)"
   ]
  },
  {
   "cell_type": "markdown",
   "metadata": {},
   "source": [
    "Mais exemplos de indexação."
   ]
  },
  {
   "cell_type": "code",
   "execution_count": 18,
   "metadata": {},
   "outputs": [
    {
     "name": "stdout",
     "output_type": "stream",
     "text": [
      "[[ 1  2  3]\n",
      " [ 4  5  6]\n",
      " [ 7  8  9]\n",
      " [10 11 12]]\n",
      "[[ 7  8  9]\n",
      " [ 4  5  6]\n",
      " [ 1  2  3]\n",
      " [10 11 12]]\n",
      "[ 1  3  4  8 12]\n"
     ]
    }
   ],
   "source": [
    "my2darr = np.arange(1,13,1).reshape(4,3)\n",
    "print(my2darr)\n",
    "\n",
    "indices = [2,1,0,3]    # selected row indices\n",
    "print(my2darr[indices,:])\n",
    "\n",
    "rowIndex = [0,0,1,2,3]     # row index into my2darr\n",
    "columnIndex = [0,2,0,1,2]  # column index into my2darr\n",
    "print(my2darr[rowIndex,columnIndex])"
   ]
  },
  {
   "cell_type": "markdown",
   "metadata": {},
   "source": [
    "## Funções aritméticas e estatísticas\n"
   ]
  },
  {
   "cell_type": "code",
   "execution_count": 19,
   "metadata": {},
   "outputs": [
    {
     "name": "stdout",
     "output_type": "stream",
     "text": [
      "[-1.4  0.4 -3.2  2.5  3.4]\n",
      "[1.4 0.4 3.2 2.5 3.4]\n",
      "[1.18321596 0.63245553 1.78885438 1.58113883 1.84390889]\n",
      "[-1.  1. -1.  1.  1.]\n",
      "[ 0.24659696  1.4918247   0.0407622  12.18249396 29.96410005]\n",
      "[-3.2 -1.4  0.4  2.5  3.4]\n"
     ]
    }
   ],
   "source": [
    "y = np.array([-1.4, 0.4, -3.2, 2.5, 3.4])    # generate a random vector\n",
    "print(y)\n",
    "\n",
    "print(np.abs(y))          # convert to absolute values\n",
    "print(np.sqrt(abs(y)))    # apply square root to each element\n",
    "print(np.sign(y))         # get the sign of each element\n",
    "print(np.exp(y))          # apply exponentiation\n",
    "print(np.sort(y))         # sort array"
   ]
  },
  {
   "cell_type": "code",
   "execution_count": 20,
   "metadata": {},
   "outputs": [
    {
     "name": "stdout",
     "output_type": "stream",
     "text": [
      "[-2 -1  0  1  2]\n",
      "[ 1.18535177  0.10556834 -1.17770069 -0.16963836  1.6624097 ]\n",
      "[-0.81464823 -0.89443166 -1.17770069  0.83036164  3.6624097 ]\n",
      "[-3.18535177 -1.10556834  1.17770069  1.16963836  0.3375903 ]\n",
      "[-2.37070354 -0.10556834 -0.         -0.16963836  3.32481941]\n",
      "[-1.68726284 -9.47253674 -0.         -5.89489309  1.20307286]\n",
      "[1.18535177 0.10556834 0.         1.         2.        ]\n"
     ]
    }
   ],
   "source": [
    "x = np.arange(-2,3)\n",
    "y = np.random.randn(5)\n",
    "print(x)\n",
    "print(y)\n",
    "\n",
    "print(np.add(x,y))           # element-wise addition       x + y\n",
    "print(np.subtract(x,y))      # element-wise subtraction    x - y\n",
    "print(np.multiply(x,y))      # element-wise multiplication x * y\n",
    "print(np.divide(x,y))        # element-wise division       x / y\n",
    "print(np.maximum(x,y))       # element-wise maximum        max(x,y)"
   ]
  },
  {
   "cell_type": "code",
   "execution_count": 21,
   "metadata": {},
   "outputs": [
    {
     "name": "stdout",
     "output_type": "stream",
     "text": [
      "[-3.2 -1.4  0.4  2.5  3.4]\n",
      "Min = -3.2\n",
      "Max = 3.4\n",
      "Average = 0.34000000000000014\n",
      "Std deviation = 2.432776191925595\n",
      "Sum = 1.7000000000000006\n"
     ]
    }
   ],
   "source": [
    "y = np.array([-3.2, -1.4, 0.4, 2.5, 3.4])    # generate a random vector\n",
    "print(y)\n",
    "\n",
    "print(\"Min =\", np.min(y))             # min \n",
    "print(\"Max =\", np.max(y))             # max \n",
    "print(\"Average =\", np.mean(y))        # mean/average\n",
    "print(\"Std deviation =\", np.std(y))   # standard deviation\n",
    "print(\"Sum =\", np.sum(y))             # sum "
   ]
  },
  {
   "cell_type": "markdown",
   "metadata": {},
   "source": [
    "## Álgebra linear\n",
    "\n"
   ]
  },
  {
   "cell_type": "code",
   "execution_count": 22,
   "metadata": {},
   "outputs": [
    {
     "name": "stdout",
     "output_type": "stream",
     "text": [
      "[[-0.32481536 -0.40231632  0.27869545]\n",
      " [ 0.02236062 -0.69105356  0.99973633]]\n",
      "[[-0.32481536  0.02236062]\n",
      " [-0.40231632 -0.69105356]\n",
      " [ 0.27869545  0.99973633]]\n",
      "[ 1.4816089  -0.41311483  1.28074218]\n",
      "[0.04189053 1.59901865]\n",
      "[[0.34503459 0.54938102]\n",
      " [0.54938102 1.47752776]]\n",
      "[[ 0.10600501  0.11522614 -0.06816984]\n",
      " [ 0.11522614  0.63941345 -0.80299508]\n",
      " [-0.06816984 -0.80299508  1.07714388]]\n"
     ]
    }
   ],
   "source": [
    "X = np.random.randn(2,3)    # create a 2 x 3 random matrix\n",
    "print(X)\n",
    "print(X.T)             # matrix transpose operation X^T\n",
    "\n",
    "y = np.random.randn(3) # random vector \n",
    "print(y)\n",
    "print(X.dot(y))        # matrix-vector multiplication  X * y\n",
    "print(X.dot(X.T))      # matrix-matrix multiplication  X * X^T\n",
    "print(X.T.dot(X))      # matrix-matrix multiplication  X^T * X"
   ]
  },
  {
   "cell_type": "code",
   "execution_count": 23,
   "metadata": {},
   "outputs": [
    {
     "name": "stdout",
     "output_type": "stream",
     "text": [
      "[[ 1.44924085 -1.35975278 -0.73061501]\n",
      " [-0.55557948 -1.51910191 -1.77599554]\n",
      " [-0.97903968  0.9261253  -0.24848573]\n",
      " [ 2.01796176 -0.41479465 -0.13566429]\n",
      " [ 0.7672348   0.40206877  1.3516414 ]]\n",
      "[[ 0.28580573  0.38576962 -0.32772908]\n",
      " [ 0.38576962  0.93727634 -0.744716  ]\n",
      " [-0.32772908 -0.744716    0.77398915]]\n",
      "46.993177472131165\n",
      "[ 0.56288056  8.09466636 10.31382135]\n",
      "[[ 0.32143618  0.7588884  -0.56636312]\n",
      " [ 0.70684785  0.20570302  0.67679567]\n",
      " [-0.63011499  0.61787916  0.47029824]]\n"
     ]
    }
   ],
   "source": [
    "X = np.random.randn(5,3)\n",
    "print(X)\n",
    "\n",
    "C = X.T.dot(X)               # C = X^T * X is a square matrix\n",
    "\n",
    "invC = np.linalg.inv(C)      # inverse of a square matrix\n",
    "print(invC)\n",
    "detC = np.linalg.det(C)      # determinant of a square matrix\n",
    "print(detC)\n",
    "S, U = np.linalg.eig(C)      # eigenvalue S and eigenvector U of a square matrix\n",
    "print(S)\n",
    "print(U)"
   ]
  },
  {
   "cell_type": "markdown",
   "metadata": {},
   "source": [
    "## Introduction to Pandas\n",
    "\n",
    "Os pandas fornecem duas estruturas de dados convenientes para armazenar e manipular dados - Series e DataFrame. Uma Series é semelhante a um array unidimensional, enquanto um DataFrame é mais semelhante a representar uma matriz ou uma tabela de planilha.  \n",
    "\n",
    "### Series\n",
    "\n",
    "Um objeto de Series consiste em uma matriz unidimensional de valores, cujos elementos podem ser referenciados usando uma matriz de índice. Um objeto Series pode ser criado a partir de uma lista, um array numpy ou um dicionário Python. Você pode aplicar a maioria das funções numpy no objeto Series."
   ]
  },
  {
   "cell_type": "code",
   "execution_count": 24,
   "metadata": {},
   "outputs": [
    {
     "name": "stdout",
     "output_type": "stream",
     "text": [
      "0    3.1\n",
      "1    2.4\n",
      "2   -1.7\n",
      "3    0.2\n",
      "4   -2.9\n",
      "5    4.5\n",
      "dtype: float64\n",
      "Values= [ 3.1  2.4 -1.7  0.2 -2.9  4.5]\n",
      "Index= RangeIndex(start=0, stop=6, step=1)\n"
     ]
    }
   ],
   "source": [
    "from pandas import Series\n",
    "\n",
    "s = Series([3.1, 2.4, -1.7, 0.2, -2.9, 4.5])   # creating a series from a list\n",
    "print(s)\n",
    "print('Values=', s.values)     # display values of the Series\n",
    "print('Index=', s.index)       # display indices of the Series"
   ]
  },
  {
   "cell_type": "code",
   "execution_count": 25,
   "metadata": {},
   "outputs": [
    {
     "name": "stdout",
     "output_type": "stream",
     "text": [
      "0   -0.039923\n",
      "1    0.117387\n",
      "2    1.537447\n",
      "3   -0.450876\n",
      "4    0.556966\n",
      "5   -0.557895\n",
      "dtype: float64\n",
      "Values= [-0.0399234   0.11738749  1.53744654 -0.45087559  0.55696575 -0.55789479]\n",
      "Index= RangeIndex(start=0, stop=6, step=1)\n"
     ]
    }
   ],
   "source": [
    "import numpy as np\n",
    "\n",
    "s2 = Series(np.random.randn(6))  # creating a series from a numpy ndarray\n",
    "print(s2)\n",
    "print('Values=', s2.values)   # display values of the Series\n",
    "print('Index=', s2.index)     # display indices of the Series"
   ]
  },
  {
   "cell_type": "code",
   "execution_count": 26,
   "metadata": {},
   "outputs": [
    {
     "name": "stdout",
     "output_type": "stream",
     "text": [
      "Jan 1    1.2\n",
      "Jan 2    2.5\n",
      "Jan 3   -2.2\n",
      "Jan 4    3.1\n",
      "Jan 5   -0.8\n",
      "Jan 6   -3.2\n",
      "dtype: float64\n",
      "Values= [ 1.2  2.5 -2.2  3.1 -0.8 -3.2]\n",
      "Index= Index(['Jan 1', 'Jan 2', 'Jan 3', 'Jan 4', 'Jan 5', 'Jan 6'], dtype='object')\n"
     ]
    }
   ],
   "source": [
    "s3 = Series([1.2,2.5,-2.2,3.1,-0.8,-3.2], \n",
    "            index = ['Jan 1','Jan 2','Jan 3','Jan 4','Jan 5','Jan 6',])\n",
    "print(s3)\n",
    "print('Values=', s3.values)   # display values of the Series\n",
    "print('Index=', s3.index)     # display indices of the Series"
   ]
  },
  {
   "cell_type": "code",
   "execution_count": 30,
   "metadata": {},
   "outputs": [
    {
     "name": "stdout",
     "output_type": "stream",
     "text": [
      "MI       Lansing\n",
      "CA    Sacramento\n",
      "TX        Austin\n",
      "MN       St Paul\n",
      "dtype: object\n",
      "Values= ['Lansing' 'Sacramento' 'Austin' 'St Paul']\n",
      "Index= Index(['MI', 'CA', 'TX', 'MN'], dtype='object')\n"
     ]
    }
   ],
   "source": [
    "capitals = {'MI': 'Lansing', 'CA': 'Sacramento', 'TX': 'Austin', 'MN': 'St Paul'}\n",
    "\n",
    "s4 = Series(capitals)   # creating a series from dictionary object\n",
    "print(s4)\n",
    "print('Values=', s4.values)   # display values of the Series\n",
    "print('Index=', s4.index)     # display indices of the Series"
   ]
  },
  {
   "cell_type": "code",
   "execution_count": 33,
   "metadata": {},
   "outputs": [
    {
     "name": "stdout",
     "output_type": "stream",
     "text": [
      "Jan 1    1.2\n",
      "Jan 2    2.5\n",
      "Jan 3   -2.2\n",
      "Jan 4    3.1\n",
      "Jan 5   -0.8\n",
      "Jan 6   -3.2\n",
      "dtype: float64\n",
      "\n",
      "s3[2]= -2.2\n",
      "s3['Jan 3']= -2.2\n"
     ]
    }
   ],
   "source": [
    "s3 = Series([1.2,2.5,-2.2,3.1,-0.8,-3.2], \n",
    "            index = ['Jan 1','Jan 2','Jan 3','Jan 4','Jan 5','Jan 6',])\n",
    "print(s3)\n",
    "\n",
    "# Accessing elements of a Series\n",
    "\n",
    "print('\\ns3[2]=', s3[2])        # display third element of the Series\n",
    "print('s3[\\'Jan 3\\']=', s3['Jan 3'])   # indexing element of a Series \n"
   ]
  },
  {
   "cell_type": "code",
   "execution_count": 34,
   "metadata": {},
   "outputs": [
    {
     "name": "stdout",
     "output_type": "stream",
     "text": [
      "\n",
      "s3[1:3]=\n",
      "Jan 2    2.5\n",
      "Jan 3   -2.2\n",
      "dtype: float64\n",
      "s3.iloc([1:3])=\n",
      "Jan 2    2.5\n",
      "Jan 3   -2.2\n",
      "dtype: float64\n"
     ]
    }
   ],
   "source": [
    "print('\\ns3[1:3]=')             # display a slice of the Series\n",
    "print(s3[1:3])\n",
    "print('s3.iloc([1:3])=')      # display a slice of the Series\n",
    "print(s3.iloc[1:3])"
   ]
  },
  {
   "cell_type": "code",
   "execution_count": 35,
   "metadata": {},
   "outputs": [
    {
     "name": "stdout",
     "output_type": "stream",
     "text": [
      "shape = (6,)\n",
      "size = 6\n"
     ]
    }
   ],
   "source": [
    "print('shape =', s3.shape)  # get the dimension of the Series\n",
    "print('size =', s3.size)    # get the # of elements of the Series"
   ]
  },
  {
   "cell_type": "code",
   "execution_count": 36,
   "metadata": {},
   "outputs": [
    {
     "name": "stdout",
     "output_type": "stream",
     "text": [
      "Jan 1    1.2\n",
      "Jan 2    2.5\n",
      "Jan 4    3.1\n",
      "dtype: float64\n"
     ]
    }
   ],
   "source": [
    "print(s3[s3 > 0])   # applying filter to select elements of the Series"
   ]
  },
  {
   "cell_type": "code",
   "execution_count": 37,
   "metadata": {},
   "outputs": [
    {
     "name": "stdout",
     "output_type": "stream",
     "text": [
      "Jan 1    5.2\n",
      "Jan 2    6.5\n",
      "Jan 3    1.8\n",
      "Jan 4    7.1\n",
      "Jan 5    3.2\n",
      "Jan 6    0.8\n",
      "dtype: float64\n",
      "Jan 1    0.300\n",
      "Jan 2    0.625\n",
      "Jan 3   -0.550\n",
      "Jan 4    0.775\n",
      "Jan 5   -0.200\n",
      "Jan 6   -0.800\n",
      "dtype: float64\n"
     ]
    }
   ],
   "source": [
    "print(s3 + 4)       # applying scalar operation on a numeric Series\n",
    "print(s3 / 4)    "
   ]
  },
  {
   "cell_type": "code",
   "execution_count": 38,
   "metadata": {},
   "outputs": [
    {
     "name": "stdout",
     "output_type": "stream",
     "text": [
      "Jan 1    1.648659\n",
      "Jan 2    1.871802\n",
      "Jan 3    0.587787\n",
      "Jan 4    1.960095\n",
      "Jan 5    1.163151\n",
      "Jan 6   -0.223144\n",
      "dtype: float64\n"
     ]
    }
   ],
   "source": [
    "print(np.log(s3 + 4))    # applying numpy math functions to a numeric Series"
   ]
  },
  {
   "cell_type": "markdown",
   "metadata": {},
   "source": [
    "### DataFrame\n",
    "\n",
    "Um objeto DataFrame é uma estrutura de dados tabular, semelhante a uma planilha, contendo uma coleção de colunas, cada uma podendo ser de diferentes tipos (numérica, string, booleana, etc). Ao contrário do Series, um DataFrame possui índices de linha e coluna distintos. Há muitas maneiras de criar um objeto DataFrame (por exemplo, de um dicionário, lista de tuplas ou até mesmo de ndarrays do numpy)."
   ]
  },
  {
   "cell_type": "code",
   "execution_count": 39,
   "metadata": {},
   "outputs": [
    {
     "data": {
      "text/html": [
       "<div>\n",
       "<style scoped>\n",
       "    .dataframe tbody tr th:only-of-type {\n",
       "        vertical-align: middle;\n",
       "    }\n",
       "\n",
       "    .dataframe tbody tr th {\n",
       "        vertical-align: top;\n",
       "    }\n",
       "\n",
       "    .dataframe thead th {\n",
       "        text-align: right;\n",
       "    }\n",
       "</style>\n",
       "<table border=\"1\" class=\"dataframe\">\n",
       "  <thead>\n",
       "    <tr style=\"text-align: right;\">\n",
       "      <th></th>\n",
       "      <th>make</th>\n",
       "      <th>model</th>\n",
       "      <th>MSRP</th>\n",
       "    </tr>\n",
       "  </thead>\n",
       "  <tbody>\n",
       "    <tr>\n",
       "      <th>0</th>\n",
       "      <td>Ford</td>\n",
       "      <td>Taurus</td>\n",
       "      <td>27595</td>\n",
       "    </tr>\n",
       "    <tr>\n",
       "      <th>1</th>\n",
       "      <td>Honda</td>\n",
       "      <td>Accord</td>\n",
       "      <td>23570</td>\n",
       "    </tr>\n",
       "    <tr>\n",
       "      <th>2</th>\n",
       "      <td>Toyota</td>\n",
       "      <td>Camry</td>\n",
       "      <td>23495</td>\n",
       "    </tr>\n",
       "    <tr>\n",
       "      <th>3</th>\n",
       "      <td>Tesla</td>\n",
       "      <td>Model S</td>\n",
       "      <td>68000</td>\n",
       "    </tr>\n",
       "  </tbody>\n",
       "</table>\n",
       "</div>"
      ],
      "text/plain": [
       "     make    model   MSRP\n",
       "0    Ford   Taurus  27595\n",
       "1   Honda   Accord  23570\n",
       "2  Toyota    Camry  23495\n",
       "3   Tesla  Model S  68000"
      ]
     },
     "execution_count": 39,
     "metadata": {},
     "output_type": "execute_result"
    }
   ],
   "source": [
    "from pandas import DataFrame\n",
    "\n",
    "cars = {'make': ['Ford', 'Honda', 'Toyota', 'Tesla'],\n",
    "       'model': ['Taurus', 'Accord', 'Camry', 'Model S'],\n",
    "       'MSRP': [27595, 23570, 23495, 68000]}          \n",
    "carData = DataFrame(cars)   # creating DataFrame from dictionary\n",
    "carData                     # display the table"
   ]
  },
  {
   "cell_type": "code",
   "execution_count": 40,
   "metadata": {},
   "outputs": [
    {
     "name": "stdout",
     "output_type": "stream",
     "text": [
      "RangeIndex(start=0, stop=4, step=1)\n",
      "Index(['make', 'model', 'MSRP'], dtype='object')\n"
     ]
    }
   ],
   "source": [
    "print(carData.index)       # print the row indices\n",
    "print(carData.columns)     # print the column indices"
   ]
  },
  {
   "cell_type": "code",
   "execution_count": 41,
   "metadata": {},
   "outputs": [
    {
     "data": {
      "text/html": [
       "<div>\n",
       "<style scoped>\n",
       "    .dataframe tbody tr th:only-of-type {\n",
       "        vertical-align: middle;\n",
       "    }\n",
       "\n",
       "    .dataframe tbody tr th {\n",
       "        vertical-align: top;\n",
       "    }\n",
       "\n",
       "    .dataframe thead th {\n",
       "        text-align: right;\n",
       "    }\n",
       "</style>\n",
       "<table border=\"1\" class=\"dataframe\">\n",
       "  <thead>\n",
       "    <tr style=\"text-align: right;\">\n",
       "      <th></th>\n",
       "      <th>make</th>\n",
       "      <th>model</th>\n",
       "      <th>MSRP</th>\n",
       "      <th>year</th>\n",
       "      <th>dealership</th>\n",
       "    </tr>\n",
       "  </thead>\n",
       "  <tbody>\n",
       "    <tr>\n",
       "      <th>1</th>\n",
       "      <td>Ford</td>\n",
       "      <td>Taurus</td>\n",
       "      <td>27595</td>\n",
       "      <td>2018</td>\n",
       "      <td>Courtesy Ford</td>\n",
       "    </tr>\n",
       "    <tr>\n",
       "      <th>2</th>\n",
       "      <td>Honda</td>\n",
       "      <td>Accord</td>\n",
       "      <td>23570</td>\n",
       "      <td>2018</td>\n",
       "      <td>Capital Honda</td>\n",
       "    </tr>\n",
       "    <tr>\n",
       "      <th>3</th>\n",
       "      <td>Toyota</td>\n",
       "      <td>Camry</td>\n",
       "      <td>23495</td>\n",
       "      <td>2018</td>\n",
       "      <td>Spartan Toyota</td>\n",
       "    </tr>\n",
       "    <tr>\n",
       "      <th>4</th>\n",
       "      <td>Tesla</td>\n",
       "      <td>Model S</td>\n",
       "      <td>68000</td>\n",
       "      <td>2018</td>\n",
       "      <td>N/A</td>\n",
       "    </tr>\n",
       "  </tbody>\n",
       "</table>\n",
       "</div>"
      ],
      "text/plain": [
       "     make    model   MSRP  year      dealership\n",
       "1    Ford   Taurus  27595  2018   Courtesy Ford\n",
       "2   Honda   Accord  23570  2018   Capital Honda\n",
       "3  Toyota    Camry  23495  2018  Spartan Toyota\n",
       "4   Tesla  Model S  68000  2018             N/A"
      ]
     },
     "execution_count": 41,
     "metadata": {},
     "output_type": "execute_result"
    }
   ],
   "source": [
    "carData2 = DataFrame(cars, index = [1,2,3,4])  # change the row index\n",
    "carData2['year'] = 2018    # add column with same value\n",
    "carData2['dealership'] = ['Courtesy Ford','Capital Honda','Spartan Toyota','N/A']\n",
    "carData2                   # display table"
   ]
  },
  {
   "cell_type": "markdown",
   "metadata": {},
   "source": [
    "Criando DataFrame de uma lista de tuplas."
   ]
  },
  {
   "cell_type": "code",
   "execution_count": 42,
   "metadata": {},
   "outputs": [
    {
     "data": {
      "text/html": [
       "<div>\n",
       "<style scoped>\n",
       "    .dataframe tbody tr th:only-of-type {\n",
       "        vertical-align: middle;\n",
       "    }\n",
       "\n",
       "    .dataframe tbody tr th {\n",
       "        vertical-align: top;\n",
       "    }\n",
       "\n",
       "    .dataframe thead th {\n",
       "        text-align: right;\n",
       "    }\n",
       "</style>\n",
       "<table border=\"1\" class=\"dataframe\">\n",
       "  <thead>\n",
       "    <tr style=\"text-align: right;\">\n",
       "      <th></th>\n",
       "      <th>year</th>\n",
       "      <th>temp</th>\n",
       "      <th>precip</th>\n",
       "    </tr>\n",
       "  </thead>\n",
       "  <tbody>\n",
       "    <tr>\n",
       "      <th>0</th>\n",
       "      <td>2011</td>\n",
       "      <td>45.1</td>\n",
       "      <td>32.4</td>\n",
       "    </tr>\n",
       "    <tr>\n",
       "      <th>1</th>\n",
       "      <td>2012</td>\n",
       "      <td>42.4</td>\n",
       "      <td>34.5</td>\n",
       "    </tr>\n",
       "    <tr>\n",
       "      <th>2</th>\n",
       "      <td>2013</td>\n",
       "      <td>47.2</td>\n",
       "      <td>39.2</td>\n",
       "    </tr>\n",
       "    <tr>\n",
       "      <th>3</th>\n",
       "      <td>2014</td>\n",
       "      <td>44.2</td>\n",
       "      <td>31.4</td>\n",
       "    </tr>\n",
       "    <tr>\n",
       "      <th>4</th>\n",
       "      <td>2015</td>\n",
       "      <td>39.9</td>\n",
       "      <td>29.8</td>\n",
       "    </tr>\n",
       "    <tr>\n",
       "      <th>5</th>\n",
       "      <td>2016</td>\n",
       "      <td>41.5</td>\n",
       "      <td>36.7</td>\n",
       "    </tr>\n",
       "  </tbody>\n",
       "</table>\n",
       "</div>"
      ],
      "text/plain": [
       "   year  temp  precip\n",
       "0  2011  45.1    32.4\n",
       "1  2012  42.4    34.5\n",
       "2  2013  47.2    39.2\n",
       "3  2014  44.2    31.4\n",
       "4  2015  39.9    29.8\n",
       "5  2016  41.5    36.7"
      ]
     },
     "execution_count": 42,
     "metadata": {},
     "output_type": "execute_result"
    }
   ],
   "source": [
    "tuplelist = [(2011,45.1,32.4),(2012,42.4,34.5),(2013,47.2,39.2),\n",
    "              (2014,44.2,31.4),(2015,39.9,29.8),(2016,41.5,36.7)]\n",
    "columnNames = ['year','temp','precip']\n",
    "weatherData = DataFrame(tuplelist, columns=columnNames)\n",
    "weatherData"
   ]
  },
  {
   "cell_type": "markdown",
   "metadata": {},
   "source": [
    "Criando um DataFrame de um   ndarray numpy"
   ]
  },
  {
   "cell_type": "code",
   "execution_count": 43,
   "metadata": {},
   "outputs": [
    {
     "data": {
      "text/html": [
       "<div>\n",
       "<style scoped>\n",
       "    .dataframe tbody tr th:only-of-type {\n",
       "        vertical-align: middle;\n",
       "    }\n",
       "\n",
       "    .dataframe tbody tr th {\n",
       "        vertical-align: top;\n",
       "    }\n",
       "\n",
       "    .dataframe thead th {\n",
       "        text-align: right;\n",
       "    }\n",
       "</style>\n",
       "<table border=\"1\" class=\"dataframe\">\n",
       "  <thead>\n",
       "    <tr style=\"text-align: right;\">\n",
       "      <th></th>\n",
       "      <th>x1</th>\n",
       "      <th>x2</th>\n",
       "      <th>x3</th>\n",
       "    </tr>\n",
       "  </thead>\n",
       "  <tbody>\n",
       "    <tr>\n",
       "      <th>0</th>\n",
       "      <td>0.375354</td>\n",
       "      <td>-1.148368</td>\n",
       "      <td>-0.742863</td>\n",
       "    </tr>\n",
       "    <tr>\n",
       "      <th>1</th>\n",
       "      <td>-0.645323</td>\n",
       "      <td>0.079135</td>\n",
       "      <td>0.533404</td>\n",
       "    </tr>\n",
       "    <tr>\n",
       "      <th>2</th>\n",
       "      <td>-0.306568</td>\n",
       "      <td>0.837647</td>\n",
       "      <td>0.110267</td>\n",
       "    </tr>\n",
       "    <tr>\n",
       "      <th>3</th>\n",
       "      <td>0.350729</td>\n",
       "      <td>0.143563</td>\n",
       "      <td>-0.256064</td>\n",
       "    </tr>\n",
       "    <tr>\n",
       "      <th>4</th>\n",
       "      <td>0.003544</td>\n",
       "      <td>-0.467553</td>\n",
       "      <td>1.275170</td>\n",
       "    </tr>\n",
       "  </tbody>\n",
       "</table>\n",
       "</div>"
      ],
      "text/plain": [
       "         x1        x2        x3\n",
       "0  0.375354 -1.148368 -0.742863\n",
       "1 -0.645323  0.079135  0.533404\n",
       "2 -0.306568  0.837647  0.110267\n",
       "3  0.350729  0.143563 -0.256064\n",
       "4  0.003544 -0.467553  1.275170"
      ]
     },
     "execution_count": 43,
     "metadata": {},
     "output_type": "execute_result"
    }
   ],
   "source": [
    "import numpy as np\n",
    "\n",
    "npdata = np.random.randn(5,3)  # create a 5 by 3 random matrix\n",
    "columnNames = ['x1','x2','x3']\n",
    "data = DataFrame(npdata, columns=columnNames)\n",
    "data"
   ]
  },
  {
   "cell_type": "markdown",
   "metadata": {},
   "source": [
    "Os elementos do DataFrame podem ser acessados de muitas maneiras."
   ]
  },
  {
   "cell_type": "code",
   "execution_count": 44,
   "metadata": {},
   "outputs": [
    {
     "name": "stdout",
     "output_type": "stream",
     "text": [
      "0   -1.148368\n",
      "1    0.079135\n",
      "2    0.837647\n",
      "3    0.143563\n",
      "4   -0.467553\n",
      "Name: x2, dtype: float64\n",
      "<class 'pandas.core.series.Series'>\n"
     ]
    }
   ],
   "source": [
    "# accessing an entire column will return a Series object\n",
    "\n",
    "print(data['x2'])\n",
    "print(type(data['x2']))"
   ]
  },
  {
   "cell_type": "code",
   "execution_count": 45,
   "metadata": {},
   "outputs": [
    {
     "name": "stdout",
     "output_type": "stream",
     "text": [
      "Row 3 of data table:\n",
      "x1   -0.306568\n",
      "x2    0.837647\n",
      "x3    0.110267\n",
      "Name: 2, dtype: float64\n",
      "<class 'pandas.core.series.Series'>\n",
      "\n",
      "Row 3 of car data table:\n",
      "make                  Toyota\n",
      "model                  Camry\n",
      "MSRP                   23495\n",
      "year                    2018\n",
      "dealership    Spartan Toyota\n",
      "Name: 3, dtype: object\n"
     ]
    }
   ],
   "source": [
    "# accessing an entire row will return a Series object\n",
    "\n",
    "print('Row 3 of data table:')\n",
    "print(data.iloc[2])       # returns the 3rd row of DataFrame\n",
    "print(type(data.iloc[2]))\n",
    "print('\\nRow 3 of car data table:')\n",
    "print(carData2.iloc[2])   # row contains objects of different types"
   ]
  },
  {
   "cell_type": "code",
   "execution_count": 46,
   "metadata": {},
   "outputs": [
    {
     "name": "stdout",
     "output_type": "stream",
     "text": [
      "23570\n",
      "Taurus\n",
      "carData2.iloc[1:3,1:3]=\n",
      "    model   MSRP\n",
      "2  Accord  23570\n",
      "3   Camry  23495\n"
     ]
    }
   ],
   "source": [
    "# accessing a specific element of the DataFrame\n",
    "\n",
    "print(carData2.iloc[1,2])      # retrieving second row, third column\n",
    "print(carData2.loc[1,'model']) # retrieving second row, column named 'model'\n",
    "\n",
    "# accessing a slice of the DataFrame\n",
    "\n",
    "print('carData2.iloc[1:3,1:3]=')\n",
    "print(carData2.iloc[1:3,1:3])"
   ]
  },
  {
   "cell_type": "code",
   "execution_count": 47,
   "metadata": {},
   "outputs": [
    {
     "name": "stdout",
     "output_type": "stream",
     "text": [
      "carData2.shape = (4, 5)\n",
      "carData2.size = 20\n"
     ]
    }
   ],
   "source": [
    "print('carData2.shape =', carData2.shape)\n",
    "print('carData2.size =', carData2.size)"
   ]
  },
  {
   "cell_type": "code",
   "execution_count": 48,
   "metadata": {},
   "outputs": [
    {
     "name": "stdout",
     "output_type": "stream",
     "text": [
      "carData2[carData2.MSRP > 25000]\n",
      "    make    model   MSRP  year     dealership\n",
      "1   Ford   Taurus  27595  2018  Courtesy Ford\n",
      "4  Tesla  Model S  68000  2018            N/A\n"
     ]
    }
   ],
   "source": [
    "# selection and filtering\n",
    "\n",
    "print('carData2[carData2.MSRP > 25000]')  \n",
    "print(carData2[carData2.MSRP > 25000])"
   ]
  },
  {
   "cell_type": "markdown",
   "metadata": {},
   "source": [
    "### Operações aritméticas"
   ]
  },
  {
   "cell_type": "code",
   "execution_count": 49,
   "metadata": {},
   "outputs": [
    {
     "name": "stdout",
     "output_type": "stream",
     "text": [
      "         x1        x2        x3\n",
      "0  0.375354 -1.148368 -0.742863\n",
      "1 -0.645323  0.079135  0.533404\n",
      "2 -0.306568  0.837647  0.110267\n",
      "3  0.350729  0.143563 -0.256064\n",
      "4  0.003544 -0.467553  1.275170\n",
      "Data transpose operation:\n",
      "           0         1         2         3         4\n",
      "x1  0.375354 -0.645323 -0.306568  0.350729  0.003544\n",
      "x2 -1.148368  0.079135  0.837647  0.143563 -0.467553\n",
      "x3 -0.742863  0.533404  0.110267 -0.256064  1.275170\n",
      "Addition:\n",
      "         x1        x2        x3\n",
      "0  4.375354  2.851632  3.257137\n",
      "1  3.354677  4.079135  4.533404\n",
      "2  3.693432  4.837647  4.110267\n",
      "3  4.350729  4.143563  3.743936\n",
      "4  4.003544  3.532447  5.275170\n",
      "Multiplication:\n",
      "         x1         x2         x3\n",
      "0  3.753537 -11.483681  -7.428627\n",
      "1 -6.453232   0.791354   5.334039\n",
      "2 -3.065681   8.376475   1.102675\n",
      "3  3.507294   1.435629  -2.560643\n",
      "4  0.035440  -4.675534  12.751702\n"
     ]
    }
   ],
   "source": [
    "print(data)\n",
    "\n",
    "print('Data transpose operation:')\n",
    "print(data.T)    # transpose operation\n",
    "\n",
    "print('Addition:')\n",
    "print(data + 4)    # addition operation\n",
    "\n",
    "print('Multiplication:')\n",
    "print(data * 10)   # multiplication operation"
   ]
  },
  {
   "cell_type": "code",
   "execution_count": 50,
   "metadata": {},
   "outputs": [
    {
     "name": "stdout",
     "output_type": "stream",
     "text": [
      "data =\n",
      "         x1        x2        x3\n",
      "0  0.375354 -1.148368 -0.742863\n",
      "1 -0.645323  0.079135  0.533404\n",
      "2 -0.306568  0.837647  0.110267\n",
      "3  0.350729  0.143563 -0.256064\n",
      "4  0.003544 -0.467553  1.275170\n",
      "\n",
      "data2 =\n",
      "         x1        x2        x3\n",
      "0  0.540692 -0.894826  1.977958\n",
      "1  0.842544  0.430750  0.267953\n",
      "2 -0.258590 -0.733473  0.871988\n",
      "3 -0.914401  0.769887  1.093842\n",
      "4 -1.972591  0.685096  1.151253\n",
      "\n",
      "data + data2 = \n",
      "         x1        x2        x3\n",
      "0  0.916045 -2.043194  1.235095\n",
      "1  0.197220  0.509885  0.801356\n",
      "2 -0.565158  0.104175  0.982256\n",
      "3 -0.563672  0.913450  0.837778\n",
      "4 -1.969047  0.217543  2.426423\n",
      "\n",
      "data * data2 = \n",
      "         x1        x2        x3\n",
      "0  0.202951  1.027590 -1.469351\n",
      "1 -0.543713  0.034088  0.142927\n",
      "2  0.079276 -0.614392  0.096152\n",
      "3 -0.320707  0.110527 -0.280094\n",
      "4 -0.006991 -0.320319  1.468044\n"
     ]
    }
   ],
   "source": [
    "print('data =')\n",
    "print(data)\n",
    "\n",
    "columnNames = ['x1','x2','x3']\n",
    "data2 = DataFrame(np.random.randn(5,3), columns=columnNames)\n",
    "print('\\ndata2 =')\n",
    "print(data2)\n",
    "\n",
    "print('\\ndata + data2 = ')\n",
    "print(data.add(data2))\n",
    "\n",
    "print('\\ndata * data2 = ')\n",
    "print(data.mul(data2))"
   ]
  },
  {
   "cell_type": "code",
   "execution_count": 55,
   "metadata": {},
   "outputs": [
    {
     "name": "stdout",
     "output_type": "stream",
     "text": [
      "         x1        x2        x3\n",
      "0  0.375354  1.148368  0.742863\n",
      "1  0.645323  0.079135  0.533404\n",
      "2  0.306568  0.837647  0.110267\n",
      "3  0.350729  0.143563  0.256064\n",
      "4  0.003544  0.467553  1.275170\n",
      "\n",
      "Maximum value per column:\n",
      "x1    0.375354\n",
      "x2    0.837647\n",
      "x3    1.275170\n",
      "dtype: float64\n"
     ]
    }
   ],
   "source": [
    "print(data.abs())    # get the absolute value for each element\n",
    "\n",
    "print('\\nMaximum value per column:')\n",
    "print(data.max())    # get maximum value for each column"
   ]
  },
  {
   "cell_type": "code",
   "execution_count": 56,
   "metadata": {},
   "outputs": [
    {
     "name": "stdout",
     "output_type": "stream",
     "text": [
      "\n",
      "Minimum value per column:\n",
      "x1   -0.645323\n",
      "x2   -1.148368\n",
      "x3   -0.742863\n",
      "dtype: float64\n"
     ]
    }
   ],
   "source": [
    "print('\\nMinimum value per column:')\n",
    "print(data.min(axis=0))  "
   ]
  },
  {
   "cell_type": "code",
   "execution_count": 53,
   "metadata": {},
   "outputs": [
    {
     "name": "stdout",
     "output_type": "stream",
     "text": [
      "\n",
      "Minimum value per row:\n",
      "0   -1.148368\n",
      "1   -0.645323\n",
      "2   -0.306568\n",
      "3   -0.256064\n",
      "4   -0.467553\n",
      "dtype: float64\n"
     ]
    }
   ],
   "source": [
    "print('\\nMinimum value per row:')\n",
    "print(data.min(axis=1))    # get minimum value for each row"
   ]
  },
  {
   "cell_type": "code",
   "execution_count": 57,
   "metadata": {},
   "outputs": [
    {
     "name": "stdout",
     "output_type": "stream",
     "text": [
      "\n",
      "Sum of values per column:\n",
      "x1   -0.222264\n",
      "x2   -0.555576\n",
      "x3    0.919915\n",
      "dtype: float64\n",
      "\n",
      "Average value per row:\n",
      "0   -0.505292\n",
      "1   -0.010928\n",
      "2    0.213782\n",
      "3    0.079409\n",
      "4    0.270387\n",
      "dtype: float64\n",
      "\n",
      "Calculate max - min per column\n",
      "x1    1.020677\n",
      "x2    1.986016\n",
      "x3    2.018033\n",
      "dtype: float64\n",
      "\n",
      "Calculate max - min per row\n",
      "0    1.523722\n",
      "1    1.178727\n",
      "2    1.144216\n",
      "3    0.606794\n",
      "4    1.742724\n",
      "dtype: float64\n"
     ]
    }
   ],
   "source": [
    "print('\\nSum of values per column:')\n",
    "print(data.sum())    # get sum of values for each column\n",
    "\n",
    "print('\\nAverage value per row:')\n",
    "print(data.mean(axis=1))    # get average value for each row\n",
    "\n",
    "print('\\nCalculate max - min per column')\n",
    "f = lambda x: x.max() - x.min()\n",
    "print(data.apply(f))\n",
    "\n",
    "print('\\nCalculate max - min per row')\n",
    "f = lambda x: x.max() - x.min()\n",
    "print(data.apply(f, axis=1))"
   ]
  },
  {
   "cell_type": "code",
   "execution_count": 58,
   "metadata": {},
   "outputs": [
    {
     "data": {
      "text/html": [
       "<div>\n",
       "<style scoped>\n",
       "    .dataframe tbody tr th:only-of-type {\n",
       "        vertical-align: middle;\n",
       "    }\n",
       "\n",
       "    .dataframe tbody tr th {\n",
       "        vertical-align: top;\n",
       "    }\n",
       "\n",
       "    .dataframe thead th {\n",
       "        text-align: right;\n",
       "    }\n",
       "</style>\n",
       "<table border=\"1\" class=\"dataframe\">\n",
       "  <thead>\n",
       "    <tr style=\"text-align: right;\">\n",
       "      <th></th>\n",
       "      <th>x1</th>\n",
       "      <th>x2</th>\n",
       "      <th>x3</th>\n",
       "    </tr>\n",
       "  </thead>\n",
       "  <tbody>\n",
       "    <tr>\n",
       "      <th>count</th>\n",
       "      <td>5.000000</td>\n",
       "      <td>5.000000</td>\n",
       "      <td>5.000000</td>\n",
       "    </tr>\n",
       "    <tr>\n",
       "      <th>mean</th>\n",
       "      <td>-0.044453</td>\n",
       "      <td>-0.111115</td>\n",
       "      <td>0.183983</td>\n",
       "    </tr>\n",
       "    <tr>\n",
       "      <th>std</th>\n",
       "      <td>0.437167</td>\n",
       "      <td>0.742319</td>\n",
       "      <td>0.769887</td>\n",
       "    </tr>\n",
       "    <tr>\n",
       "      <th>min</th>\n",
       "      <td>-0.645323</td>\n",
       "      <td>-1.148368</td>\n",
       "      <td>-0.742863</td>\n",
       "    </tr>\n",
       "    <tr>\n",
       "      <th>25%</th>\n",
       "      <td>-0.306568</td>\n",
       "      <td>-0.467553</td>\n",
       "      <td>-0.256064</td>\n",
       "    </tr>\n",
       "    <tr>\n",
       "      <th>50%</th>\n",
       "      <td>0.003544</td>\n",
       "      <td>0.079135</td>\n",
       "      <td>0.110267</td>\n",
       "    </tr>\n",
       "    <tr>\n",
       "      <th>75%</th>\n",
       "      <td>0.350729</td>\n",
       "      <td>0.143563</td>\n",
       "      <td>0.533404</td>\n",
       "    </tr>\n",
       "    <tr>\n",
       "      <th>max</th>\n",
       "      <td>0.375354</td>\n",
       "      <td>0.837647</td>\n",
       "      <td>1.275170</td>\n",
       "    </tr>\n",
       "  </tbody>\n",
       "</table>\n",
       "</div>"
      ],
      "text/plain": [
       "             x1        x2        x3\n",
       "count  5.000000  5.000000  5.000000\n",
       "mean  -0.044453 -0.111115  0.183983\n",
       "std    0.437167  0.742319  0.769887\n",
       "min   -0.645323 -1.148368 -0.742863\n",
       "25%   -0.306568 -0.467553 -0.256064\n",
       "50%    0.003544  0.079135  0.110267\n",
       "75%    0.350729  0.143563  0.533404\n",
       "max    0.375354  0.837647  1.275170"
      ]
     },
     "execution_count": 58,
     "metadata": {},
     "output_type": "execute_result"
    }
   ],
   "source": [
    "data.describe()"
   ]
  },
  {
   "cell_type": "markdown",
   "metadata": {},
   "source": [
    "### 2.2.4 Gráficos de  Series e DataFrame\n"
   ]
  },
  {
   "cell_type": "code",
   "execution_count": 59,
   "metadata": {},
   "outputs": [
    {
     "data": {
      "text/plain": [
       "<matplotlib.axes._subplots.AxesSubplot at 0x2848055c9e8>"
      ]
     },
     "execution_count": 59,
     "metadata": {},
     "output_type": "execute_result"
    },
    {
     "data": {
      "image/png": "[encoded data removed]",
      "text/plain": [
       "<Figure size 432x288 with 1 Axes>"
      ]
     },
     "metadata": {
      "needs_background": "light"
     },
     "output_type": "display_data"
    }
   ],
   "source": [
    "%matplotlib inline\n",
    "\n",
    "s3 = Series([1.2,2.5,-2.2,3.1,-0.8,-3.2,1.4], \n",
    "            index = ['Jan 1','Jan 2','Jan 3','Jan 4','Jan 5','Jan 6','Jan 7'])\n",
    "s3.plot(kind='line', title='Line plot')"
   ]
  },
  {
   "cell_type": "code",
   "execution_count": 60,
   "metadata": {},
   "outputs": [
    {
     "data": {
      "text/plain": [
       "<matplotlib.axes._subplots.AxesSubplot at 0x284fff5b470>"
      ]
     },
     "execution_count": 60,
     "metadata": {},
     "output_type": "execute_result"
    },
    {
     "data": {
      "image/png": "[encoded data removed]",
      "text/plain": [
       "<Figure size 432x288 with 1 Axes>"
      ]
     },
     "metadata": {
      "needs_background": "light"
     },
     "output_type": "display_data"
    }
   ],
   "source": [
    "s3.plot(kind='bar', title='Bar plot')"
   ]
  },
  {
   "cell_type": "code",
   "execution_count": 61,
   "metadata": {},
   "outputs": [
    {
     "data": {
      "text/plain": [
       "<matplotlib.axes._subplots.AxesSubplot at 0x284801e9470>"
      ]
     },
     "execution_count": 61,
     "metadata": {},
     "output_type": "execute_result"
    },
    {
     "data": {
      "image/png": "[encoded data removed]",
      "text/plain": [
       "<Figure size 432x288 with 1 Axes>"
      ]
     },
     "metadata": {
      "needs_background": "light"
     },
     "output_type": "display_data"
    }
   ],
   "source": [
    "s3.plot(kind='hist', title = 'Histogram')"
   ]
  },
  {
   "cell_type": "code",
   "execution_count": 62,
   "metadata": {},
   "outputs": [
    {
     "data": {
      "text/plain": [
       "<matplotlib.axes._subplots.AxesSubplot at 0x284800512e8>"
      ]
     },
     "execution_count": 62,
     "metadata": {},
     "output_type": "execute_result"
    },
    {
     "data": {
      "image/png": "[encoded data removed]",
      "text/plain": [
       "<Figure size 432x288 with 1 Axes>"
      ]
     },
     "metadata": {
      "needs_background": "light"
     },
     "output_type": "display_data"
    }
   ],
   "source": [
    "tuplelist = [(2011,45.1,32.4),(2012,42.4,34.5),(2013,47.2,39.2),\n",
    "              (2014,44.2,31.4),(2015,39.9,29.8),(2016,41.5,36.7)]\n",
    "columnNames = ['year','temp','precip']\n",
    "weatherData = DataFrame(tuplelist, columns=columnNames)\n",
    "weatherData[['temp','precip']].plot(kind='box', title='Box plot')"
   ]
  }
 ],
 "metadata": {
  "kernelspec": {
   "display_name": "Python 3",
   "language": "python",
   "name": "python3"
  },
  "language_info": {
   "codemirror_mode": {
    "name": "ipython",
    "version": 3
   },
   "file_extension": ".py",
   "mimetype": "text/x-python",
   "name": "python",
   "nbconvert_exporter": "python",
   "pygments_lexer": "ipython3",
   "version": "3.7.3"
  }
 },
 "nbformat": 4,
 "nbformat_minor": 2
}
