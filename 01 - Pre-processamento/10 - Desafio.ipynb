{
 "cells": [
  {
   "cell_type": "markdown",
   "metadata": {},
   "source": [
    "# Atividades\n",
    "\n",
    "## Analisando dados de ocorrências de feminicídio na cidade de São Paulo\n",
    "\n",
    "Algumas perguntas com relação ao dataset podem ser respondidas\n",
    "- Como os índices de feminicídio evoluíram em relação ao tempo e como podem evoluir nos próximos anos?\n",
    "- Quais foram os períodos com maiores taxas nos últimos anos?\n",
    "- Quais são os logradouros, tipos de locais, bairros e regiões com maiores índices?\n",
    "- Quais são os dias da semana, horários com maiores índices?\n",
    "\n",
    "Dataset disponível em: http://www.ssp.sp.gov.br/transparenciassp/Default.aspx"
   ]
  },
  {
   "cell_type": "markdown",
   "metadata": {},
   "source": []
  },
  {
   "cell_type": "code",
   "execution_count": null,
   "metadata": {},
   "outputs": [],
   "source": [
    "# Leitura dos dados"
   ]
  },
  {
   "cell_type": "markdown",
   "metadata": {},
   "source": [
    "## Pré-processamento\n",
    "\n",
    "Antes de analisar, caso necessário, realiza um procedimento de limpeza de dados, como remover duplicados, tratar strings, converter dados para outros formatos, criar novas colunas como dia do mês, da semana e mês.\n",
    "\n",
    "**P.S.**: *Essa pode ser a fase mais demorada de todo o desafio.*"
   ]
  },
  {
   "cell_type": "code",
   "execution_count": null,
   "metadata": {},
   "outputs": [],
   "source": [
    "# REMOVENDO DADOS DUPLICADOS\n",
    "\n",
    "# TRANSFORMANDO STRINGS PARA LOWER CASE\n",
    "\n",
    "# PADRONIZANDO STRING\n",
    "\n",
    "# TRANSFORMANDO DADOS TEMPORAIS NO TIPO APROPRIADO"
   ]
  },
  {
   "cell_type": "markdown",
   "metadata": {},
   "source": [
    "## Análise Exploratória\n",
    "\n",
    "Agora é a hora de descobrir relações e algumas *hidden informations* do dataset. "
   ]
  },
  {
   "cell_type": "code",
   "execution_count": null,
   "metadata": {},
   "outputs": [],
   "source": []
  }
 ],
 "metadata": {
  "kernelspec": {
   "display_name": "Python 3",
   "language": "python",
   "name": "python3"
  },
  "language_info": {
   "codemirror_mode": {
    "name": "ipython",
    "version": 3
   },
   "file_extension": ".py",
   "mimetype": "text/x-python",
   "name": "python",
   "nbconvert_exporter": "python",
   "pygments_lexer": "ipython3",
   "version": "3.7.3"
  }
 },
 "nbformat": 4,
 "nbformat_minor": 2
}
