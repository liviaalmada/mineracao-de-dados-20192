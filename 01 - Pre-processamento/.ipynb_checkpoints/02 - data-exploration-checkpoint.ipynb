{
 "cells": [
  {
   "cell_type": "markdown",
   "metadata": {},
   "source": [
    "# Data Exploration\n",
    "\n",
    "The following tutorial contains examples of Python code for data exploration. You should refer to the \"Data Exploration\" chapter of the \"Introduction to Data Mining\" book (available at https://www-users.cs.umn.edu/~kumar001/dmbook/index.php) to understand some of the concepts introduced in this tutorial notebook. The notebook can be downloaded from http://www.cse.msu.edu/~ptan/dmbook/tutorials/tutorial3/tutorial3.ipynb.\n",
    "\n"
   ]
  },
  {
   "cell_type": "markdown",
   "metadata": {},
   "source": [
    "A exploração de dados refere-se à investigação preliminar de dados para\n",
    "para entender melhor suas características específicas.\n",
    "\n",
    "Existem duas principais motivações para a exploração de dados:\n",
    "1. Para ajudar os usuários a selecionar a técnica apropriada de pré-processamento e análise de dados usada.\n",
    "2. Utilizar as habilidades humanas para reconhecer padrões nos dados.\n",
    "\n",
    "Leia as instruções passo a passo abaixo com cuidado.\n",
    "Para executar o código, clique na célula e pressione as teclas SHIFT-ENTER simultaneamente."
   ]
  },
  {
   "cell_type": "markdown",
   "metadata": {},
   "source": [
    "## Estatíticas de Resumo\n",
    "\n",
    "As estatísticas de resumo são quantidades, como a média e o desvio padrão, que capturam várias características de um conjunto potencialmente grande de valores com um único número ou um pequeno conjunto de números. Neste tutorial, usaremos os dados da amostra Iris, que contém informações sobre 150 flores Iris, 50 cada uma de uma das três espécies de íris: Setosa, Versicolour e Virginica. Cada flor é caracterizada por cinco atributos:\n",
    "\n",
    "- sepal length in centimeters\n",
    "\n",
    "- sepal width in centimeters\n",
    "\n",
    "- petal length in centimeters\n",
    "\n",
    "- petal width in centimeters\n",
    "\n",
    "- class (Setosa, Versicolour, Virginica) \n",
    "\n",
    "\n",
    "Neste tutorial, você aprenderá como:\n",
    "\n",
    "- Carregar um arquivo de dados CSV em um objeto Pandas DataFrame.\n",
    "\n",
    "- Calcule várias estatísticas de resumo do DataFrame.\n",
    "\n",
    "Para executar o programa de exemplo mostrado aqui, certifique-se de ter instalado a biblioteca Pandas.\n",
    "\n",
    "- conda install pandas\n",
    "- pip install pandas\n"
   ]
  },
  {
   "cell_type": "markdown",
   "metadata": {},
   "source": [
    "**1.** Primeiro, você precisa baixar o <a href=\"http://archive.ics.uci.edu/ml/datasets/Iris\"> conjunto de dados Iris </a> do repositório de aprendizado de máquina da UCI.\n",
    "\n",
    "**<font color='red'>Code:</font>** O código a seguir usa Pandas para ler o arquivo CSV e armazená-los em um objeto DataFrame chamado data. Em seguida, ele exibirá as cinco primeiras linhas do quadro de dados."
   ]
  },
  {
   "cell_type": "code",
   "execution_count": null,
   "metadata": {},
   "outputs": [],
   "source": [
    "import pandas as pd\n",
    "\n",
    "data = pd.read_csv('http://archive.ics.uci.edu/ml/machine-learning-databases/iris/iris.data',header=None)\n",
    "data.columns = ['sepal length', 'sepal width', 'petal length', 'petal width', 'class']\n",
    "\n",
    "data.head()"
   ]
  },
  {
   "cell_type": "markdown",
   "metadata": {},
   "source": [
    "**2.** Para cada atributo qunatitativo, calcule seus valores médio, desvio padrão, mínimo e máximo.\n",
    "\n",
    "**<font color=\"red\">Code:</font>**"
   ]
  },
  {
   "cell_type": "code",
   "execution_count": null,
   "metadata": {},
   "outputs": [],
   "source": [
    "from pandas.api.types import is_numeric_dtype\n",
    "\n",
    "for col in data.columns:\n",
    "    if is_numeric_dtype(data[col]):\n",
    "        print('%s:' % (col))\n",
    "        print('\\t Mean = %.2f' % data[col].mean())\n",
    "        print('\\t Standard deviation = %.2f' % data[col].std())\n",
    "        print('\\t Minimum = %.2f' % data[col].min())\n",
    "        print('\\t Maximum = %.2f' % data[col].max())"
   ]
  },
  {
   "cell_type": "markdown",
   "metadata": {},
   "source": [
    "**3.** Para o atributo qualitativo (classe), conte a frequência para cada um dos seus valores distintos.\n",
    "\n",
    "**<font color=\"red\">Code:</font>**"
   ]
  },
  {
   "cell_type": "code",
   "execution_count": null,
   "metadata": {},
   "outputs": [],
   "source": [
    "data['class'].value_counts()"
   ]
  },
  {
   "cell_type": "markdown",
   "metadata": {},
   "source": [
    "**4.** Também é possível exibir o resumo de todos os atributos simultaneamente em uma tabela usando a função describe(). \n",
    "* Se um atributo é quantitativo, ele exibirá sua média, desvio padrão e vários quantis (incluindo mínimo, mediano e máximo). \n",
    "* Se um atributo for qualitativo, ele exibirá seu número de valores exclusivos e os valores principais (mais frequentes).\n",
    "\n",
    "**<font color=\"red\">Code:</font>**"
   ]
  },
  {
   "cell_type": "code",
   "execution_count": null,
   "metadata": {},
   "outputs": [],
   "source": [
    "data.describe(include='all')"
   ]
  },
  {
   "cell_type": "markdown",
   "metadata": {},
   "source": [
    "Note that count refers to the number of non-missing values for each attribute."
   ]
  },
  {
   "cell_type": "markdown",
   "metadata": {},
   "source": [
    "**5.** Para estatísticas multivariadas, você pode calcular a covariância e a correlação entre pares de atributos.\n",
    "**<font color=\"red\">Code:</font>**"
   ]
  },
  {
   "cell_type": "markdown",
   "metadata": {},
   "source": [
    "$cov_{x,y}=\\frac{\\sum_{i=1}^{n}(x_{i}-\\bar{x})(y_{i}-\\bar{y})}{n}$\n",
    "\n",
    "O sinal na covariância indica o tipo de relação que as duas variáveis tem. Um sinal positivo indica que elas movem juntas e um negativo que elas movem em direções opostas. Enquanto a covariância cresce com o poder do relacionamento, ainda é relativamente difícil fazer julgamentos sobre o poder do relacionamento entre as duas variáveis observando a covariância, pois ela não é padronizada."
   ]
  },
  {
   "cell_type": "code",
   "execution_count": null,
   "metadata": {},
   "outputs": [],
   "source": [
    "print('Covariance:')\n",
    "data.cov()"
   ]
  },
  {
   "cell_type": "markdown",
   "metadata": {},
   "source": [
    "$corr_{x,y}=\\frac{cov_{x,y}}{\\sigma_{x}\\sigma{y}}$\n",
    "\n",
    "A correlação nunca pode ser maior do que 1 ou menor do que menos 1. Uma correlação próxima a zero indica que as duas variáveis não estão relacionadas. Uma correlação positiva indica que as duas variáveis movem juntas, e a relação é forte quanto mais a correlação se aproxima de um. Uma correlação negativa indica que as duas variáveis movem-se em direções opostas, e que a relação também fica mais forte quanto mais próxima de menos 1 a correlção ficar. Duas variáveis que estão perfeitamente correlacionadas positivamente (r=1) movem-se essencialmente em perfeita proporção na mesma direção, enquanto dois conjuntos que estão perfeitamente correlacionados negativamente movem-se em perfeita proporção em direções opostas."
   ]
  },
  {
   "cell_type": "code",
   "execution_count": null,
   "metadata": {},
   "outputs": [],
   "source": [
    "print('Correlation:')\n",
    "data.corr()"
   ]
  },
  {
   "cell_type": "markdown",
   "metadata": {},
   "source": [
    "## Visualização de Dados\n",
    "\n",
    "Visualização de dados é a exibição de informações em um formato gráfico ou tabular. A visualização bem-sucedida requer que os dados (informações) sejam convertidos em um formato visual para que as características dos dados e os relacionamentos\n",
    "entre itens de dados ou atributos podem ser analisados ou relatados.\n",
    "\n",
    "Neste tutorial, você aprenderá como exibir os dados da Iris criados na Seção 3.1. Para executar o programa de exemplo mostrado aqui, certifique-se de ter instalado o pacote da biblioteca matplotlib.\n",
    "\n",
    "* conda isntall matplotlib\n",
    "* pip install matplotlib"
   ]
  },
  {
   "cell_type": "markdown",
   "metadata": {},
   "source": [
    "**1.**  Primeiro, exibiremos o histograma para o atributo sepal length (comprimento da sépala), discretizando-o em 8 bins  e contando a frequência para cada bin.\n",
    "\n",
    "**<font color=\"red\">Code:</font>**"
   ]
  },
  {
   "cell_type": "code",
   "execution_count": null,
   "metadata": {},
   "outputs": [],
   "source": [
    "%matplotlib inline\n",
    "\n",
    "data['sepal length'].hist(bins=8)"
   ]
  },
  {
   "cell_type": "markdown",
   "metadata": {},
   "source": [
    "**2.** Um boxplot também pode ser usado para mostrar a distribuição de valores para cada atributo.\n",
    "\n",
    "**<font color=\"red\">Code:</font>**"
   ]
  },
  {
   "cell_type": "code",
   "execution_count": null,
   "metadata": {},
   "outputs": [],
   "source": [
    "data.boxplot()"
   ]
  },
  {
   "cell_type": "markdown",
   "metadata": {},
   "source": [
    "**3.** Para cada par de atributos, podemos usar um gráfico de dispersão para visualizar sua distribuição conjunta.\n",
    "**<font color=\"red\">Code:</font>**"
   ]
  },
  {
   "cell_type": "code",
   "execution_count": null,
   "metadata": {},
   "outputs": [],
   "source": [
    "import matplotlib.pyplot as plt\n",
    "\n",
    "fig, axes = plt.subplots(3, 2, figsize=(12,12))\n",
    "index = 0\n",
    "for i in range(3):\n",
    "    for j in range(i+1,4):\n",
    "        ax1 = int(index/2)\n",
    "        ax2 = index % 2\n",
    "        axes[ax1][ax2].scatter(data[data.columns[i]], data[data.columns[j]], color='red')\n",
    "        axes[ax1][ax2].set_xlabel(data.columns[i])\n",
    "        axes[ax1][ax2].set_ylabel(data.columns[j])\n",
    "        index = index + 1"
   ]
  },
  {
   "cell_type": "markdown",
   "metadata": {},
   "source": [
    "**4.** Coordenadas paralelas podem ser usadas para exibir todos os pontos de dados simultaneamente. As coordenadas paralelas têm um eixo de coordenadas para cada atributo, mas os diferentes eixos são paralelos um ao outro em vez de perpendiculares, como é tradicional. Além disso, um objeto é representado como uma linha em vez de um ponto. No exemplo abaixo, a distribuição de valores para cada classe pode ser identificada em uma cor separada.\n",
    "\n",
    "**<font color=\"red\">Code:</font>**"
   ]
  },
  {
   "cell_type": "code",
   "execution_count": null,
   "metadata": {},
   "outputs": [],
   "source": [
    "from pandas.plotting import parallel_coordinates\n",
    "%matplotlib inline\n",
    "\n",
    "parallel_coordinates(data, 'class')"
   ]
  },
  {
   "cell_type": "markdown",
   "metadata": {},
   "source": [
    "\n",
    "\n",
    "**<font color='blue'>References:</font>**\n",
    "\n",
    "1. Documentation on Pandas. https://pandas.pydata.org/\n",
    "2. Documentation on matplotlib. https://matplotlib.org/\n",
    "3. Lichman, M. (2013). UCI Machine Learning Repository [http://archive.ics.uci.edu/ml]. Irvine, CA: University of California, School of Information and Computer Science. "
   ]
  }
 ],
 "metadata": {
  "kernelspec": {
   "display_name": "Python 3",
   "language": "python",
   "name": "python3"
  },
  "language_info": {
   "codemirror_mode": {
    "name": "ipython",
    "version": 3
   },
   "file_extension": ".py",
   "mimetype": "text/x-python",
   "name": "python",
   "nbconvert_exporter": "python",
   "pygments_lexer": "ipython3",
   "version": "3.7.3"
  }
 },
 "nbformat": 4,
 "nbformat_minor": 2
}
