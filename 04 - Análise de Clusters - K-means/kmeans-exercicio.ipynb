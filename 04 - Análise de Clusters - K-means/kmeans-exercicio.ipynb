{
 "cells": [
  {
   "cell_type": "markdown",
   "metadata": {},
   "source": [
    "# Agrupamento simples: K-Means\n",
    "O K-Means é um dos algoritmos de cluster mais populares. Ele identifica K \"centróides\" que são usados para definir Clusters. Considera-se que um ponto está em um cluster específico se estiver mais próximo do percentil desse cluster do que qualquer outro centróide.\n",
    "\n"
   ]
  },
  {
   "cell_type": "markdown",
   "metadata": {},
   "source": [
    "## Clustering Iris Dataset\n",
    "Vamos utilizar o k-means para clusterizar os dados do dataset iris"
   ]
  },
  {
   "cell_type": "code",
   "execution_count": null,
   "metadata": {},
   "outputs": [],
   "source": [
    "# Carrega os dados \n",
    "from sklearn.datasets import load_iris\n",
    "iris = load_iris()\n",
    "\n",
    "# Imprime a descrição\n",
    "print(iris.DESCR)\n",
    "\n"
   ]
  },
  {
   "cell_type": "code",
   "execution_count": null,
   "metadata": {},
   "outputs": [],
   "source": [
    "data = iris.data\n",
    "print(\"Número de amostras:\", data.shape[0])\n",
    "print(\"Número de atributos:\", data.shape[1])"
   ]
  },
  {
   "cell_type": "code",
   "execution_count": null,
   "metadata": {},
   "outputs": [],
   "source": [
    "def plot_iris(X, y, x_axis, legend):\n",
    "    # X est un numpy array qui contient les échantillons\n",
    "    # y est un numpy array qui contient les classes \n",
    "    #  (le numéro du type de l'iris)\n",
    "    # x_axis est une liste qui contient les noms des attributs\n",
    "    #  (sepal length, sepal width,...)\n",
    "    # legend est une liste qui contient les noms des classes \n",
    "    #  (le type de l'iris)\n",
    "    fig = plt.figure()\n",
    "    ax = fig.add_subplot(111)\n",
    "    colors = ['red', 'yellow', 'green']\n",
    "    for i in range(len(colors)):\n",
    "        start = True\n",
    "        for xs in X[y == i]:\n",
    "            if start:\n",
    "                ax.plot(xs,'o-', c=colors[i], label=legend[i])\n",
    "                start = False\n",
    "            else:\n",
    "                ax.plot(xs, 'o-', c=colors[i])\n",
    "    plt.xticks(range(len(x_axis)), x_axis, size='small')\n",
    "    plt.legend()\n",
    "    plt.show()\n",
    "\n",
    "def plot_iris_scatter(X, y, axis, legend, col1, col2):\n",
    "    # col1 et col2 sont des nombre entier entre 0 et 3 inclus, \n",
    "    #  pour sélectionner deux attributs à visualiser\n",
    "    colors = ['red', 'yellow', 'green']\n",
    "    for i in range(len(colors)):\n",
    "        xs = X[:, col1][y == i]\n",
    "        ys = X[:, col2][y == i]\n",
    "        plt.scatter(xs, ys, c = colors[i])\n",
    "    plt.legend(legend)\n",
    "    plt.xlabel(axis[col1])\n",
    "    plt.ylabel(axis[col2])\n",
    "    plt.show()\n",
    "\n",
    "plot_iris(iris.data, iris.target, iris.feature_names, iris.target_names)\n",
    "\n"
   ]
  },
  {
   "cell_type": "code",
   "execution_count": null,
   "metadata": {},
   "outputs": [],
   "source": [
    "# Visualização com atributos 0 e 1 \n",
    "plot_iris_scatter(iris.data, iris.target, iris.feature_names, \n",
    "                  iris.target_names,0, 1 )"
   ]
  },
  {
   "cell_type": "code",
   "execution_count": null,
   "metadata": {},
   "outputs": [],
   "source": [
    "# Visualização com atributos 2 e 3\n",
    "\n",
    "# SEU CÓDIGO AQUI"
   ]
  },
  {
   "cell_type": "code",
   "execution_count": null,
   "metadata": {},
   "outputs": [],
   "source": [
    "# Utilize train_test_split para dividir os dados \n",
    "X_train, X_test, y_train, y_test = train_test_split(iris.data, iris.target,\n",
    "                                                    test_size=0.25, \n",
    "                                                    random_state=40)\n",
    "# Utilize o K-Means para clusterizar os dados. \n",
    "X = X_train[:,2:]\n",
    "kmeans = ## SEU CÓDIGO AQUI"
   ]
  },
  {
   "cell_type": "code",
   "execution_count": null,
   "metadata": {},
   "outputs": [],
   "source": [
    "def plot_iris_clusters(clf, X, y, axis, legend, loc='lower right'):\n",
    "    h = .01\n",
    "    x_min, x_max = X[:, 0].min() - 1, X[:, 0].max() + 1\n",
    "    y_min, y_max = X[:, 1].min() - 1, X[:, 1].max() + 1\n",
    "\n",
    "    xx, yy = np.meshgrid(np.arange(x_min, x_max, h), \n",
    "                         np.arange(y_min, y_max, h))\n",
    "    a = np.c_[xx.ravel(), yy.ravel()]\n",
    "    z = clf.predict(a)\n",
    "    z = z.reshape(xx.shape)\n",
    "    plt.imshow(z, interpolation='nearest', \n",
    "               extent=(xx.min(), xx.max(), yy.min(), yy.max()),\n",
    "               cmap=plt.cm.Paired, aspect='auto', origin='lower')\n",
    "    colors = ['red', 'yellow', 'green']\n",
    "    for i in range(len(colors)):\n",
    "        xs = X[:, 0][y == i]\n",
    "        ys = X[:, 1][y == i]\n",
    "        plt.scatter(xs, ys, c = colors[i])\n",
    "    plt.legend(legend, loc=loc)\n",
    "    plt.xlabel(axis[0])\n",
    "    plt.ylabel(axis[1])\n",
    "\n",
    "    centroids = clf.cluster_centers_\n",
    "    plt.scatter(centroids[:, 0], centroids[:, 1], marker='.',\n",
    "                s=169, linewidths=3, color='w', zorder=10)\n",
    "    plt.xlim(x_min, x_max)\n",
    "    plt.ylim(y_min, y_max)\n",
    "    plt.xticks(())\n",
    "    plt.yticks(())\n",
    "    plt.show()\n"
   ]
  },
  {
   "cell_type": "code",
   "execution_count": null,
   "metadata": {},
   "outputs": [],
   "source": [
    "# Utilize a função plot_iris_clusters com os dados da aprendizagem para visualizar os clusters\n",
    "plot_iris_clusters(kmeans, X, y_train, iris.feature_names[2:],\n",
    "                  iris.target_names)"
   ]
  },
  {
   "cell_type": "code",
   "execution_count": null,
   "metadata": {},
   "outputs": [],
   "source": [
    "# Utilize a função plot_iris_clusters com os dados de teste para visualizar os clusters\n",
    "X_eval = X_test[:,2:]\n",
    "plot_iris_clusters(kmeans, X_eval, y_test, iris.feature_names[2:],\n",
    "                  iris.target_names)"
   ]
  },
  {
   "cell_type": "markdown",
   "metadata": {},
   "source": [
    "## Agrupando dígitos \n",
    "Veremos como o K-means funciona usando números de conjuntos de dados no scikit-learn."
   ]
  },
  {
   "cell_type": "code",
   "execution_count": null,
   "metadata": {},
   "outputs": [],
   "source": [
    "import matplotlib.pyplot as plt\n",
    "\n",
    "\n",
    "# Uma função para visualizar os dígitos\n",
    "def print_digits(images, y, max_n=10):\n",
    "    plt.figure(1)\n",
    "    plt.clf()\n",
    "    fig = plt.figure(figsize=(12, 12))\n",
    "    fig.subplots_adjust(left=0, right=1, bottom=0, top=1, hspace=0.05\n",
    "                        , wspace=0.05)\n",
    "    i = 0\n",
    "    while i < max_n and i<images.shape[0]:\n",
    "        p = fig.add_subplot(20, 20, i+1, xticks=[], yticks=[])\n",
    "        p.imshow(images[i], cmap=plt.cm.bone)\n",
    "        p.text(0, 14, str(y[i]))\n",
    "        i += 1\n",
    "    plt.show()\n"
   ]
  },
  {
   "cell_type": "code",
   "execution_count": null,
   "metadata": {},
   "outputs": [],
   "source": [
    "import numpy as np\n",
    "from sklearn.datasets import load_digits\n",
    "from sklearn.preprocessing import scale\n",
    "\n",
    "digits = load_digits()\n",
    "print_digits(digits.images, digits.target, max_n=20)"
   ]
  },
  {
   "cell_type": "markdown",
   "metadata": {},
   "source": [
    "Podemos ver as figuras (manuscritas) com as classes de destino abaixo. Não vamos usar essas classes porque estamos fazendo um aprendizado não supervisionado (Clustering).\n",
    "\n",
    "Em seguida, testaremos se poderíamos reagrupar os números com base em suas semelhanças. Normalmente teremos 10 clusters."
   ]
  },
  {
   "cell_type": "code",
   "execution_count": null,
   "metadata": {},
   "outputs": [],
   "source": [
    "from sklearn.model_selection import train_test_split\n",
    "\n",
    "# Use train_test_split\n",
    "X_train, X_test, y_train, y_test, images_train, images_test = \\\n",
    "train_test_split(\n",
    "    digits.data, digits.target, digits.images, test_size=0.25,\n",
    "    random_state=41)\n",
    "\n",
    "print(\"Número de amostras::\", digits.data.shape[0])\n",
    "print(\"Número de atributos::\", digits.data.shape[1])"
   ]
  },
  {
   "cell_type": "code",
   "execution_count": null,
   "metadata": {},
   "outputs": [],
   "source": [
    "# Utilize a função unique para obter os valores dos labels\n",
    "unique_labels = np.unique(digits.target)\n",
    "print(unique_labels)"
   ]
  },
  {
   "cell_type": "code",
   "execution_count": null,
   "metadata": {},
   "outputs": [],
   "source": [
    "from sklearn.cluster import KMeans\n",
    "# Utilize o K-Means para clusterizar o dataset de dígitos\n",
    "clf = KMeans(init='k-means++', n_clusters=10)\n",
    "clf.fit(X_train)"
   ]
  },
  {
   "cell_type": "code",
   "execution_count": null,
   "metadata": {},
   "outputs": [],
   "source": [
    "# Utilize a função print_digits para visualizar os clusters dos 10 primeiros dígitos\n",
    "# para isso, passe como labels clf.labels_\n",
    "\n",
    "## SEU CÓDIGO AQUI"
   ]
  },
  {
   "cell_type": "code",
   "execution_count": null,
   "metadata": {},
   "outputs": [],
   "source": [
    "# Utilize o método clf.predict (da mesma forma que no aprendizado supervisionado) para encontrar\n",
    "# os clusters atribuídos aos dados de teste\n",
    "\n",
    "## SEU CÓDIGO AQUI\n",
    "\n",
    "# Uma função para imprimir os dígitos de um determinado cluster\n",
    "def print_cluster(images, y_pred, cluster_number):\n",
    "    images = images[y_pred==cluster_number]\n",
    "    y_pred = y_pred[y_pred==cluster_number]\n",
    "    print_digits(images, y_pred, max_n=10)\n",
    "    \n",
    "# Utilize a função para imprimir os dígitos de cada um dos 10 clusters\n",
    "\n",
    "\n",
    "## SEU CÓDIGO AQUI"
   ]
  }
 ],
 "metadata": {
  "kernelspec": {
   "display_name": "Python 3",
   "language": "python",
   "name": "python3"
  },
  "language_info": {
   "codemirror_mode": {
    "name": "ipython",
    "version": 3
   },
   "file_extension": ".py",
   "mimetype": "text/x-python",
   "name": "python",
   "nbconvert_exporter": "python",
   "pygments_lexer": "ipython3",
   "version": "3.7.3"
  }
 },
 "nbformat": 4,
 "nbformat_minor": 2
}
