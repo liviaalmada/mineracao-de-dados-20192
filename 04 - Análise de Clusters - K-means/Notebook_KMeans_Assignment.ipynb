{
 "cells": [
  {
   "cell_type": "markdown",
   "metadata": {},
   "source": [
    "# <p style=\"text-align: center;\">Clusterização e algoritmo K-means</p> \n",
    "\n",
    "Organizar dados em agrupamentos é um dos modos mais fundamentais de compreensão e aprendizado. Como por exemplo, os organismos em um sistema biologico são classificados em domínio, reino, filo, classe, etc. A análise de agrupamento é o estudo formal de métodos e algoritmos para agrupar objetos de acordo com medidas ou características semelhantes. A análise de cluster, em sua essência, não utiliza rótulos de categoria que marcam objetos com identificadores anteriores, ou seja, rótulos de classe. A ausência de informação de categoria distingue o agrupamento de dados (aprendizagem não supervisionada) da classificação ou análise discriminante (aprendizagem supervisionada). O objetivo da clusterização é encontrar estruturas em dados e, portanto, é de natureza exploratória. \n",
    "\n",
    "A técnica de Clustering tem uma longa e rica história em uma variedade de campos científicos. Um dos algoritmos de clusterização mais populares e simples, o K-means, foi publicado pela primeira vez em 1955. Apesar do K-means ter sido proposto há mais de 50 anos e milhares de algoritmos de clustering terem sido publicados desde então, o K-means é ainda amplamente utilizado.\n",
    "\n",
    "Fonte: Anil K. Jain, Data clustering: 50 years beyond K-means, Pattern Recognition Letters, Volume 31, Issue 8, 2010"
   ]
  },
  {
   "cell_type": "markdown",
   "metadata": {},
   "source": [
    "# Objetivo\n",
    "\n",
    "- Implementar as funções do algoritmo KMeans passo-a-passo\n",
    "- Comparar a implementação com o algoritmo do Scikit-Learn\n",
    "- Codificar o Método do Cotovelo"
   ]
  },
  {
   "cell_type": "markdown",
   "metadata": {},
   "source": [
    "# Carregando os dados de teste"
   ]
  },
  {
   "cell_type": "markdown",
   "metadata": {},
   "source": [
    "Carregue os dados disponibilizados, e identifique visualmente em quantos grupos os dados parecem estar distribuídos."
   ]
  },
  {
   "cell_type": "code",
   "execution_count": 22,
   "metadata": {},
   "outputs": [],
   "source": [
    "# import libraries\n",
    "\n",
    "# linear algebra\n",
    "import numpy as np \n",
    "# data processing\n",
    "import pandas as pd \n",
    "# data visualization\n",
    "from matplotlib import pyplot as plt "
   ]
  },
  {
   "cell_type": "code",
   "execution_count": 23,
   "metadata": {},
   "outputs": [
    {
     "data": {
      "image/png": "[encoded data removed]",
      "text/plain": [
       "<Figure size 432x288 with 1 Axes>"
      ]
     },
     "metadata": {
      "needs_background": "light"
     },
     "output_type": "display_data"
    }
   ],
   "source": [
    "# load the data with pandas\n",
    "dataset = pd.read_csv('dataset.csv', header=None)\n",
    "dataset = np.array(dataset)\n",
    "\n",
    "plt.scatter(dataset[:,0], dataset[:,1], s=10)\n",
    "plt.show()"
   ]
  },
  {
   "cell_type": "markdown",
   "metadata": {},
   "source": [
    "# 1. Implementar o algoritmo K-means"
   ]
  },
  {
   "cell_type": "markdown",
   "metadata": {},
   "source": [
    "Nesta etapa você irá implementar as funções que compõe o algoritmo do KMeans uma a uma. É importante entender e ler a documentação de cada função, principalmente as dimensões dos dados esperados na saída."
   ]
  },
  {
   "cell_type": "markdown",
   "metadata": {},
   "source": [
    "## 1.1 Inicializar os centróides"
   ]
  },
  {
   "cell_type": "markdown",
   "metadata": {},
   "source": [
    "A primeira etapa do algoritmo consiste em inicializar os centróides de maneira aleatória. Essa etapa é uma das mais importantes do algoritmo e uma boa inicialização pode diminuir bastante o tempo de convergência.\n",
    "\n",
    "Para inicializar os centróides você pode considerar o conhecimento prévio sobre os dados, mesmo sem saber a quantidade de grupos ou sua distribuição. \n",
    "\n",
    "> Dica: https://docs.scipy.org/doc/numpy/reference/generated/numpy.random.uniform.html "
   ]
  },
  {
   "cell_type": "code",
   "execution_count": 24,
   "metadata": {},
   "outputs": [],
   "source": [
    "def calculate_initial_centers(dataset, k):\n",
    "    \"\"\"\n",
    "    Inicializa os centróides iniciais de maneira arbitrária \n",
    "    \n",
    "    Argumentos:\n",
    "    dataset -- Conjunto de dados - [m,n]\n",
    "    k -- Número de centróides desejados\n",
    "    \n",
    "    Retornos:\n",
    "    centroids -- Lista com os centróides calculados - [k,n]\n",
    "    \"\"\"\n",
    "    \n",
    "    #### CODE HERE ####\n",
    "    \n",
    "    ### END OF CODE ###\n",
    "    \n",
    "    return centroids"
   ]
  },
  {
   "cell_type": "markdown",
   "metadata": {},
   "source": [
    "Teste a função criada e visualize os centróides que foram calculados."
   ]
  },
  {
   "cell_type": "code",
   "execution_count": 28,
   "metadata": {},
   "outputs": [
    {
     "data": {
      "image/png": "[encoded data removed]",
      "text/plain": [
       "<Figure size 432x288 with 1 Axes>"
      ]
     },
     "metadata": {
      "needs_background": "light"
     },
     "output_type": "display_data"
    }
   ],
   "source": [
    "k = 3\n",
    "centroids = calculate_initial_centers(dataset, k)\n",
    "\n",
    "plt.scatter(dataset[:,0], dataset[:,1], s=10)\n",
    "plt.scatter(centroids[:,0], centroids[:,1], marker='^', c='red',s=100)\n",
    "plt.show()"
   ]
  },
  {
   "cell_type": "markdown",
   "metadata": {},
   "source": [
    "## 1.2 Definir os clusters"
   ]
  },
  {
   "cell_type": "markdown",
   "metadata": {},
   "source": [
    "Na segunda etapa do algoritmo serão definidos o grupo de cada dado, de acordo com os centróides calculados."
   ]
  },
  {
   "cell_type": "markdown",
   "metadata": {},
   "source": [
    "### 1.2.1 Função de distância "
   ]
  },
  {
   "cell_type": "markdown",
   "metadata": {},
   "source": [
    "Codifique a função de distância euclidiana entre dois pontos __(a, b)__.\n",
    "\n",
    "Definido pela equação:\n",
    "\n",
    "$$ dist(a, b) = \\sqrt{(a_1-b_1)^{2}+(a_2-b_2)^{2}+ ... + (a_n-b_n)^{2}} $$\n",
    "\n",
    "$$ dist(a, b) = \\sqrt{\\sum_{i=1}^{n}(a_i-b_i)^{2}} $$"
   ]
  },
  {
   "cell_type": "code",
   "execution_count": 29,
   "metadata": {},
   "outputs": [],
   "source": [
    "def euclidean_distance(a, b):\n",
    "    \"\"\"\n",
    "    Calcula a distância euclidiana entre os pontos a e b\n",
    "    \n",
    "    Argumentos:\n",
    "    a -- Um ponto no espaço - [1,n]\n",
    "    b -- Um ponto no espaço - [1,n]\n",
    "    \n",
    "    Retornos:\n",
    "    distance -- Distância euclidiana entre os pontos\n",
    "    \"\"\"\n",
    "    \n",
    "    #### CODE HERE ####\n",
    "    \n",
    "    ### END OF CODE ###\n",
    "    \n",
    "    return distance"
   ]
  },
  {
   "cell_type": "code",
   "execution_count": null,
   "metadata": {},
   "outputs": [],
   "source": [
    "## (a - b)**2 outra forma de fazer ao quadrado"
   ]
  },
  {
   "cell_type": "markdown",
   "metadata": {},
   "source": [
    "Teste a função criada."
   ]
  },
  {
   "cell_type": "code",
   "execution_count": 30,
   "metadata": {},
   "outputs": [
    {
     "name": "stdout",
     "output_type": "stream",
     "text": [
      "Distância calculada corretamente!\n"
     ]
    }
   ],
   "source": [
    "a = np.array([1, 5, 9])\n",
    "b = np.array([3, 7, 8])\n",
    "\n",
    "if (euclidean_distance(a,b) == 3):\n",
    "    print(\"Distância calculada corretamente!\")\n",
    "else:\n",
    "    print(\"Função de distância incorreta\")"
   ]
  },
  {
   "cell_type": "markdown",
   "metadata": {},
   "source": [
    "### 1.2.2 Calcular o centróide mais próximo"
   ]
  },
  {
   "cell_type": "markdown",
   "metadata": {},
   "source": [
    "Utilizando a função de distância codificada anteriormente, complete a função abaixo para calcular o centróide mais próximo de um ponto qualquer. \n",
    "\n",
    "> Dica: https://docs.scipy.org/doc/numpy/reference/generated/numpy.argmin.html"
   ]
  },
  {
   "cell_type": "code",
   "execution_count": 31,
   "metadata": {},
   "outputs": [],
   "source": [
    "def nearest_centroid(a, centroids):\n",
    "    \"\"\"\n",
    "    Calcula o índice do centroid mais próximo ao ponto a\n",
    "    \n",
    "    Argumentos:\n",
    "    a -- Um ponto no espaço - [1,n]\n",
    "    centroids -- Lista com os centróides - [k,n]\n",
    "    \n",
    "    Retornos:\n",
    "    nearest_index -- Índice do centróide mais próximo\n",
    "    \"\"\"\n",
    "    \n",
    "    #### CODE HERE ####\n",
    "    \n",
    "      \n",
    "    ### END OF CODE ###\n",
    "    \n",
    "    return nearest_index"
   ]
  },
  {
   "cell_type": "markdown",
   "metadata": {},
   "source": [
    "Teste a função criada"
   ]
  },
  {
   "cell_type": "code",
   "execution_count": 37,
   "metadata": {},
   "outputs": [
    {
     "data": {
      "image/png": "[encoded data removed]",
      "text/plain": [
       "<Figure size 432x288 with 1 Axes>"
      ]
     },
     "metadata": {
      "needs_background": "light"
     },
     "output_type": "display_data"
    }
   ],
   "source": [
    "# Seleciona um ponto aleatório no dataset\n",
    "index = np.random.randint(dataset.shape[0])\n",
    "a = dataset[index,:]\n",
    "\n",
    "# Usa a função para descobrir o centroid mais próximo\n",
    "idx_nearest_centroid = nearest_centroid(a, centroids)\n",
    "\n",
    "\n",
    "# Plota os dados ------------------------------------------------\n",
    "plt.scatter(dataset[:,0], dataset[:,1], s=10)\n",
    "# Plota o ponto aleatório escolhido em uma cor diferente\n",
    "plt.scatter(a[0], a[1], c='magenta', s=30)\n",
    "\n",
    "# Plota os centroids\n",
    "plt.scatter(centroids[:,0], centroids[:,1], marker='^', c='red', s=100)\n",
    "# Plota o centroid mais próximo com uma cor diferente\n",
    "plt.scatter(centroids[idx_nearest_centroid,0], \n",
    "            centroids[idx_nearest_centroid,1],\n",
    "            marker='^', c='springgreen', s=100)\n",
    "\n",
    "# Cria uma linha do ponto escolhido para o centroid selecionado\n",
    "plt.plot([a[0], centroids[idx_nearest_centroid,0]], \n",
    "         [a[1], centroids[idx_nearest_centroid,1]],c='orange')\n",
    "plt.annotate('CENTROID', (centroids[idx_nearest_centroid,0], \n",
    "            centroids[idx_nearest_centroid,1],))\n",
    "plt.show()"
   ]
  },
  {
   "cell_type": "markdown",
   "metadata": {},
   "source": [
    "### 1.2.3 Calcular centróide mais próximo de cada dado do dataset"
   ]
  },
  {
   "cell_type": "markdown",
   "metadata": {},
   "source": [
    "Utilizando a função anterior que retorna o índice do centróide mais próximo, calcule o centroid mais próximo de cada dado do dataset. "
   ]
  },
  {
   "cell_type": "code",
   "execution_count": 38,
   "metadata": {},
   "outputs": [],
   "source": [
    "def all_nearest_centroids(dataset, centroids):\n",
    "    \"\"\"\n",
    "    Calcula o índice do centroid mais próximo para cada \n",
    "    ponto do dataset\n",
    "    \n",
    "    Argumentos:\n",
    "    dataset -- Conjunto de dados - [m,n]\n",
    "    centroids -- Lista com os centróides - [k,n]\n",
    "    \n",
    "    Retornos:\n",
    "    nearest_indexes -- Índices do centróides mais próximos - [m,1]\n",
    "    \"\"\"\n",
    "    \n",
    "    #### CODE HERE ####\n",
    "    \n",
    "      \n",
    "    ### END OF CODE ###\n",
    "    \n",
    "    return nearest_indexes"
   ]
  },
  {
   "cell_type": "markdown",
   "metadata": {},
   "source": [
    "Teste a função criada visualizando os cluster formados."
   ]
  },
  {
   "cell_type": "code",
   "execution_count": 44,
   "metadata": {},
   "outputs": [],
   "source": [
    "nearest_indexes = all_nearest_centroids(dataset, centroids)"
   ]
  },
  {
   "cell_type": "code",
   "execution_count": null,
   "metadata": {},
   "outputs": [],
   "source": [
    "plt.scatter(dataset[:,0], dataset[:,1], c=nearest_indexes)\n",
    "plt.scatter(centroids[:,0], centroids[:,1], marker='^', c='red', s=100)\n",
    "plt.show()"
   ]
  },
  {
   "cell_type": "markdown",
   "metadata": {},
   "source": [
    "## 1.3 Métrica de avaliação "
   ]
  },
  {
   "cell_type": "markdown",
   "metadata": {},
   "source": [
    "Após formar os clusters, como sabemos se o resultado gerado é bom? Para isso, precisamos definir uma métrica de avaliação.\n",
    "\n",
    "O algoritmo K-means tem como objetivo escolher centróides que minimizem a soma quadrática das distância entre os dados de um cluster e seu centróide. Essa métrica é conhecida como __inertia__.\n",
    "\n",
    "$$\\sum_{i=0}^{n}\\min_{c_j \\in C}(||x_i - c_j||^2)$$\n",
    "\n",
    "A __inertia__, ou o critério de soma dos quadrados dentro do cluster, pode ser reconhecido como uma medida de o quão internamente coerentes são os clusters, porém ela sofre de alguns inconvenientes:\n",
    "\n",
    "- A inertia pressupõe que os clusters são convexos e isotrópicos, o que nem sempre é o caso. Desta forma, pode não representar bem em aglomerados alongados ou variedades com formas irregulares.\n",
    "- A inertia não é uma métrica normalizada: sabemos apenas que valores mais baixos são melhores e zero é o valor ótimo. Mas em espaços de dimensões muito altas, as distâncias euclidianas tendem a se tornar infladas (este é um exemplo da chamada “maldição da dimensionalidade”). A execução de um algoritmo de redução de dimensionalidade, como o PCA, pode aliviar esse problema e acelerar os cálculos.\n",
    "\n",
    "Fonte: https://scikit-learn.org/stable/modules/clustering.html"
   ]
  },
  {
   "cell_type": "markdown",
   "metadata": {},
   "source": [
    "Para podermos avaliar os nosso clusters, codifique a métrica da inertia abaixo, para isso você pode utilizar a função de distância euclidiana construída anteriormente.\n",
    "\n",
    "$$inertia = \\sum_{i=0}^{n}\\min_{c_j \\in C} (dist(x_i, c_j))^2$$"
   ]
  },
  {
   "cell_type": "code",
   "execution_count": null,
   "metadata": {},
   "outputs": [],
   "source": [
    "def inertia(dataset, centroids, nearest_indexes):\n",
    "    \"\"\"\n",
    "    Soma das distâncias quadradas das amostras para o \n",
    "    centro do cluster mais próximo.\n",
    "    \n",
    "    Argumentos:\n",
    "    dataset -- Conjunto de dados - [m,n]\n",
    "    centroids -- Lista com os centróides - [k,n]\n",
    "    nearest_indexes -- Índices do centróides mais próximos - [m,1]\n",
    "    \n",
    "    Retornos:\n",
    "    inertia -- Soma total do quadrado da distância entre \n",
    "    os dados de um cluster e seu centróide\n",
    "    \"\"\"\n",
    "    \n",
    "    #### CODE HERE ####\n",
    "       \n",
    "    ### END OF CODE ###\n",
    "    \n",
    "    return inertia"
   ]
  },
  {
   "cell_type": "markdown",
   "metadata": {},
   "source": [
    "Teste a função codificada executando o código abaixo."
   ]
  },
  {
   "cell_type": "code",
   "execution_count": null,
   "metadata": {},
   "outputs": [],
   "source": [
    "tmp_data = np.array([[1,2,3],[3,6,5],[4,5,6]])\n",
    "tmp_centroide = np.array([[2,3,4]])\n",
    "\n",
    "tmp_nearest_indexes = all_nearest_centroids(tmp_data, tmp_centroide)\n",
    "if inertia(tmp_data, tmp_centroide, tmp_nearest_indexes) == 26:\n",
    "    print(\"Inertia calculada corretamente!\")\n",
    "else:\n",
    "    print(\"Função de inertia incorreta!\")"
   ]
  },
  {
   "cell_type": "code",
   "execution_count": null,
   "metadata": {},
   "outputs": [],
   "source": [
    "# Use a função para verificar a inertia dos seus clusters\n",
    "inertia(dataset, centroids, nearest_indexes)"
   ]
  },
  {
   "cell_type": "markdown",
   "metadata": {},
   "source": [
    "## 1.4 Atualizar os clusters"
   ]
  },
  {
   "cell_type": "markdown",
   "metadata": {},
   "source": [
    "Nessa etapa, os centróides são recomputados. O novo valor de cada centróide será a media de todos os dados atribuídos ao cluster."
   ]
  },
  {
   "cell_type": "code",
   "execution_count": 45,
   "metadata": {},
   "outputs": [],
   "source": [
    "def update_centroids(dataset, centroids, nearest_indexes):\n",
    "    \"\"\"\n",
    "    Atualiza os centroids\n",
    "    \n",
    "    Argumentos:\n",
    "    dataset -- Conjunto de dados - [m,n]\n",
    "    centroids -- Lista com os centróides - [k,n]\n",
    "    nearest_indexes -- Índices do centróides mais próximos - [m,1]\n",
    "    \n",
    "    Retornos:\n",
    "    centroids -- Lista com centróides atualizados - [k,n]\n",
    "    \"\"\"\n",
    "    \n",
    "    #### CODE HERE ####\n",
    "\n",
    "      \n",
    "    ### END OF CODE ###\n",
    "    \n",
    "    return centroids"
   ]
  },
  {
   "cell_type": "markdown",
   "metadata": {},
   "source": [
    "Visualize os clusters formados"
   ]
  },
  {
   "cell_type": "code",
   "execution_count": 52,
   "metadata": {},
   "outputs": [
    {
     "data": {
      "image/png": "[encoded data removed]",
      "text/plain": [
       "<Figure size 432x288 with 1 Axes>"
      ]
     },
     "metadata": {
      "needs_background": "light"
     },
     "output_type": "display_data"
    }
   ],
   "source": [
    "nearest_indexes = all_nearest_centroids(dataset, centroids)\n",
    "\n",
    "# Plota os os cluster ------------------------------------------------\n",
    "plt.scatter(dataset[:,0], dataset[:,1], c=nearest_indexes)\n",
    "\n",
    "# Plota os centroids\n",
    "plt.scatter(centroids[:,0], centroids[:,1], marker='^', c='red', s=100)\n",
    "for index, centroid in enumerate(centroids):\n",
    "    dataframe = dataset[nearest_indexes == index,:]\n",
    "    for data in dataframe:\n",
    "        plt.plot([centroid[0], data[0]], [centroid[1], data[1]], \n",
    "                 c='lightgray', alpha=0.3)\n",
    "plt.show()"
   ]
  },
  {
   "cell_type": "markdown",
   "metadata": {},
   "source": [
    "Execute a função de atualização e visualize novamente os cluster formados"
   ]
  },
  {
   "cell_type": "code",
   "execution_count": 53,
   "metadata": {},
   "outputs": [],
   "source": [
    "centroids = update_centroids(dataset, centroids, nearest_indexes)"
   ]
  },
  {
   "cell_type": "markdown",
   "metadata": {},
   "source": [
    "# 2. K-means"
   ]
  },
  {
   "cell_type": "markdown",
   "metadata": {},
   "source": [
    "## 2.1 Algoritmo completo"
   ]
  },
  {
   "cell_type": "markdown",
   "metadata": {},
   "source": [
    "Utilizando as funções codificadas anteriormente, complete a classe do algoritmo K-means!"
   ]
  },
  {
   "cell_type": "code",
   "execution_count": null,
   "metadata": {},
   "outputs": [],
   "source": [
    "class KMeans():\n",
    "    \n",
    "    def __init__(self, n_clusters=8, max_iter=300):\n",
    "        self.n_clusters = n_clusters\n",
    "        self.max_iter = max_iter\n",
    "    \n",
    "    def fit(self,X):\n",
    "        \n",
    "        # Inicializa os centróides\n",
    "        self.cluster_centers_ = [None]\n",
    "        \n",
    "        # Computa o cluster de cada amostra\n",
    "        self.labels_ = [None]\n",
    "        \n",
    "        # Calcula a inércia inicial\n",
    "            old_inertia = '[None]'\n",
    "        \n",
    "        for index in [None]:\n",
    "            \n",
    "            #### CODE HERE ####\n",
    "    \n",
    "      \n",
    "            ### END OF CODE ###\n",
    "                    \n",
    "        return self\n",
    "    \n",
    "    def predict(self, X):\n",
    "        \n",
    "        return [None]"
   ]
  },
  {
   "cell_type": "markdown",
   "metadata": {},
   "source": [
    "Verifique o resultado do algoritmo abaixo!"
   ]
  },
  {
   "cell_type": "code",
   "execution_count": null,
   "metadata": {},
   "outputs": [],
   "source": [
    "kmeans = KMeans(n_clusters=3)\n",
    "kmeans.fit(dataset)\n",
    "\n",
    "print(\"Inércia = \", kmeans.inertia_)\n",
    "\n",
    "plt.scatter(dataset[:,0], dataset[:,1], c=kmeans.labels_)\n",
    "plt.scatter(kmeans.cluster_centers_[:,0], \n",
    "            kmeans.cluster_centers_[:,1], marker='^', c='red', s=100)\n",
    "plt.show()"
   ]
  },
  {
   "cell_type": "markdown",
   "metadata": {},
   "source": [
    "## 2.2 Comparar com algoritmo do Scikit-Learn"
   ]
  },
  {
   "cell_type": "markdown",
   "metadata": {},
   "source": [
    "Use a implementação do algoritmo do scikit-learn do K-means para o mesmo conjunto de dados. Mostre o valor da inércia  e os conjuntos gerados pelo modelo. Você pode usar a mesma estrutura da célula de código anterior.\n",
    "> Dica: https://scikit-learn.org/stable/modules/generated/sklearn.cluster.KMeans"
   ]
  },
  {
   "cell_type": "code",
   "execution_count": null,
   "metadata": {},
   "outputs": [],
   "source": [
    "#### CODE HERE ####"
   ]
  },
  {
   "cell_type": "markdown",
   "metadata": {},
   "source": [
    "# 3. Método do cotovelo"
   ]
  },
  {
   "cell_type": "markdown",
   "metadata": {},
   "source": [
    "Implemete o método do cotovelo e mostre o melhor K para o conjunto de dados."
   ]
  },
  {
   "cell_type": "code",
   "execution_count": null,
   "metadata": {},
   "outputs": [],
   "source": [
    "#### CODE HERE ####"
   ]
  }
 ],
 "metadata": {
  "kernelspec": {
   "display_name": "Python 3",
   "language": "python",
   "name": "python3"
  },
  "language_info": {
   "codemirror_mode": {
    "name": "ipython",
    "version": 3
   },
   "file_extension": ".py",
   "mimetype": "text/x-python",
   "name": "python",
   "nbconvert_exporter": "python",
   "pygments_lexer": "ipython3",
   "version": "3.7.3"
  }
 },
 "nbformat": 4,
 "nbformat_minor": 2
}
