{
 "cells": [
  {
   "cell_type": "markdown",
   "metadata": {},
   "source": [
    "# \"*Aprender é fácil. Difícil é aprender como se aprende*\"\n",
    "---"
   ]
  },
  {
   "cell_type": "markdown",
   "metadata": {},
   "source": [
    "# Aprendizagem Não Supervisionada e Supervisionada\n",
    "---"
   ]
  },
  {
   "cell_type": "markdown",
   "metadata": {},
   "source": [
    "Se eu quero ensinar uma criança a escrever **0** quando um número for **par** e **1** quando for **ímpar**, basta eu DIZER para ela fazer isso. Mas e para um computador?"
   ]
  },
  {
   "cell_type": "markdown",
   "metadata": {},
   "source": [
    "Jarvis, se um número for par, me retorne 0. Retorne 1 caso contrário.\n",
    "Obrigado e tenha um bom dia"
   ]
  },
  {
   "cell_type": "markdown",
   "metadata": {},
   "source": [
    "Ok, não é tão simples... mas como nós sabemos programar, podemos fazer um código para isso!"
   ]
  },
  {
   "cell_type": "code",
   "execution_count": null,
   "metadata": {},
   "outputs": [],
   "source": [
    "def paridade(n):\n",
    "    return n%2\n",
    "\n",
    "print(\"Qual a paridade de 3?\\n{}\\n\".format(paridade(3)))\n",
    "print(\"Qual a paridade de 12?\\n{}\\n\".format(paridade(12)))\n",
    "print(\"Qual a paridade de 42?\\n{}\\n\".format(paridade(42)))"
   ]
  },
  {
   "cell_type": "markdown",
   "metadata": {},
   "source": [
    "Show! Nada que uma boa programação não resolva ;)"
   ]
  },
  {
   "cell_type": "markdown",
   "metadata": {},
   "source": [
    "## Tá, mas é só isso? Basta ficar programando um punhado de regras de acordo com cada problema?"
   ]
  },
  {
   "cell_type": "markdown",
   "metadata": {},
   "source": [
    "Calma jovem, deixa eu te contar uma história bem legal (só que não)..."
   ]
  },
  {
   "cell_type": "markdown",
   "metadata": {},
   "source": [
    "## Era uma vez...\n",
    "\n",
    "um casal de computólogos (Aberovaldo e Gertrudes) que gostavam muito de identificar padrões nas coisas(tudo doido) que estavam atrás de uma casa para morar. Um dia, eles estavam andando pela cidade quando viram algumas casas com uma placa de **VENDE-SE**. Eles notaram as seguintes casas:\n",
    "\n",
    "* casa A: 50m², 2 andares\n",
    "* casa B: 90m², 1 andar\n",
    "* casa C: 100m², 1 andar\n",
    "* casa D: 45m², 2 andares\n",
    "\n",
    "Aberovaldo,jovem de muita lábia e que gostava de se exibir para sua bela Gertrudes, disse: \"*eu aposto a lavagem da louça da janta que as casas A e D tem os preços bem próximos, assim como as casas B e C*\". Gertrudes, que não gosta de ser desafiada, aceitou a aposta.\n",
    "\n",
    "Ao chegarem em casa, foram correndo para o site da imobiliária *Inside* e viram os seguintes anúncios:\n",
    "\n",
    "* casa A: 50m², 2 andares - R\\$ 200.000,00 \n",
    "* casa B: 70m², 1 andar - R\\$ 140.000,00 \n",
    "* casa C: 80m², 1 andar - R\\$ 160.000,00\n",
    "* casa D: 45m², 2 andares - R\\$ 180.000,00\n",
    "\n",
    "Conforme aberovaldo havia *predito*, as casas A e D e as casas B e C tem preços bem parecidos."
   ]
  },
  {
   "cell_type": "markdown",
   "metadata": {},
   "source": [
    "## Ué, como que ele conseguiu acertar sem ter visto os preços ?\n",
    "\n",
    "Aberovaldo percebeu o seguinte: algumas casas tinham menos metros quadrados, mas tinham mais andares(A e D), enquanto as outras tinham mais metros quadrados e menos andares(B e C). Logo, ele *identificou* que essas casas deveriam ter o preço mais parecido. \n",
    "\n",
    "Esse processo de *aprendizado* chama-se de aprendizado **não supervisionado**!"
   ]
  },
  {
   "cell_type": "markdown",
   "metadata": {},
   "source": [
    "---\n",
    "\n",
    "Gertrudes, não querendo se dar por vencida, lançou uma nova proposta: \"*escolha qualquer casa do catálogo e me diga a área e o número de andares. Eu consigo acertar o preço (ou passar bem perto) de todas. Valendo o dobro ou nada!*\"\n",
    "\n",
    "**CHALLENGE ACCEPTED**\n",
    "\n",
    "| Casa | Área | Andares | Palpite | Preço | \n",
    "| --- | --- | --- | --- | --- |\n",
    "| E | 50m² | 1 | R\\$ 100.000,00 | R\\$ 100.000,00 |\n",
    "| F | 100m² | 2 | R\\$ 400.000,00 | R\\$ 400.000,00 |\n",
    "| G | 200m² | 1 | R\\$ 400.000,00 | R\\$ 410.000,00 |\n",
    "\n",
    "É, pelo visto Gertrudes também manja das coisas. No fim das contas os dois cederam e pediram uma pizza"
   ]
  },
  {
   "cell_type": "markdown",
   "metadata": {},
   "source": [
    "## Ok, a casa E eu até entendo ela acertar, mas e as outras ?\n",
    "\n",
    "Gertrudes notou que parecia haver algum padrão entre os preços e os valores de área e número de andares da casa. Ela tentou encontrar uma equação que pudesse relacionar os valores, chegando na seguinte ideia: *preço da casa = 2000 $\\times$ área da  casa $\\times$ número de andares *. Se a gente fizer as contas, a fórmual bate com as 4 casas que eles viram na rua! Ela ainda acertou perfeitamente as casas E e F, mas acertou na trave a casa G... mas paciência, né? Pra quem ia pagar 400.000 reais, o que são mais 10.000 no preço de uma casa? \n",
    "\n",
    "Esse processo de *aprendizado* chama-se de aprendizado **supervisionado**!"
   ]
  },
  {
   "cell_type": "markdown",
   "metadata": {},
   "source": [
    "Existem diversas formas de se aprender, algumas super intuitivas, outras nem tanto. Neste curso vamos começar pelo aprendizado supervisionado, dando uma noção introdutória de aprendizagem"
   ]
  },
  {
   "cell_type": "markdown",
   "metadata": {},
   "source": [
    "# Introdução à Aprendizagem Supervisionada\n",
    "---\n",
    "\n",
    "Suponhamos o seguinte conjunto de dados:"
   ]
  },
  {
   "cell_type": "code",
   "execution_count": null,
   "metadata": {},
   "outputs": [],
   "source": [
    "%matplotlib inline\n",
    "import matplotlib.pyplot as plt\n",
    "import numpy as np\n",
    "\n",
    "X = np.array([[ 2.7810836 ,  2.550537  ],\n",
    "       [ 1.46548937,  2.36212508],  \n",
    "       [ 3.39656169,  4.40029353],  \n",
    "       [ 1.38807019,  1.85022032],  \n",
    "       [ 3.06407232,  3.00530597],  \n",
    "       [ 7.62753121,  2.75926224],\n",
    "       [ 5.33244125,  2.08862677],\n",
    "       [ 6.92259672,  1.77106367],\n",
    "       [ 8.67541865, -0.24206865],\n",
    "       [ 7.67375647,  3.50856301]])\n",
    "\n",
    "Y = np.array([ 'b',  'b',  'b',  'b',  'b',  'r',  'r',  'r',  'r',  'r'])\n",
    "\n",
    "plt.scatter(X[:, 0], X[:, 1], c=Y)\n",
    "plt.grid()"
   ]
  },
  {
   "cell_type": "markdown",
   "metadata": {},
   "source": [
    "Suponha também que agora temos um novo dado(o qual está em na forma de um losângulo)"
   ]
  },
  {
   "cell_type": "code",
   "execution_count": null,
   "metadata": {},
   "outputs": [],
   "source": [
    "p_x = np.array([[4.2,2]])\n",
    "plt.scatter(X[:, 0], X[:, 1], c=Y)\n",
    "plt.scatter(p_x[:, 0], p_x[:, 1], c='k', marker='d')\n",
    "plt.grid()"
   ]
  },
  {
   "cell_type": "markdown",
   "metadata": {},
   "source": [
    "A qual grupo pertence esse novo elemento?\n",
    "\n",
    "Como que tomamos essa decisão?\n",
    "\n",
    "Só tem um jeito de descobrir?"
   ]
  },
  {
   "cell_type": "markdown",
   "metadata": {},
   "source": [
    "## \"*Diga-me com quem tu andas que eu direi quem tu és*\"\n",
    "\n",
    "esse é o princípio mais intuitivo quando falamos sobre classificar dados. É natural à mente humana querer categorizar algo a partir de seus próximos. Sendo assim, nada mais justo do que utilizar essa filosofia como método de aprendizagem!\n",
    "\n",
    "Esse método é chamado de **K-Nearest-Neighbors** (ou *kNN*, para os mais chegados). Ele é bem simples: um elemento pertence a classe dos elementos mais próximos a ele. Pronto. Fim.\n",
    "\n",
    "Vamos identificar quem é o vizinho mais próximo de nosso novo ponto."
   ]
  },
  {
   "cell_type": "markdown",
   "metadata": {},
   "source": [
    "### Como definimos os elementos mais próximos? Bom, lembra da função euclideana? Vamos utilizá-la pra isso! ;)"
   ]
  },
  {
   "cell_type": "code",
   "execution_count": null,
   "metadata": {},
   "outputs": [],
   "source": [
    "import pandas as pd\n",
    "\n",
    "def dist_euclidiana(data, p):\n",
    "    x = (data - p)**2\n",
    "    return np.sqrt( np.sum(x, axis=1) )\n",
    "\n"
   ]
  },
  {
   "cell_type": "code",
   "execution_count": null,
   "metadata": {},
   "outputs": [],
   "source": [
    "df = pd.DataFrame(data=X)\n",
    "df['color'] = Y\n",
    "df['dist_euc'] = dist_euclidiana(X, p_x)\n",
    "df = df.sort_values(by='dist_euc')\n",
    "df"
   ]
  },
  {
   "cell_type": "code",
   "execution_count": null,
   "metadata": {},
   "outputs": [],
   "source": [
    "plt.scatter(X[:, 0], X[:, 1], c=Y)\n",
    "plt.scatter(p_x[:, 0], p_x[:, 1], c='k', marker='d')\n",
    "plt.grid()\n",
    "plt.gcf().gca().add_artist(plt.Circle((p_x[0,0],p_x[0,1]),1.2, fill=False))"
   ]
  },
  {
   "cell_type": "markdown",
   "metadata": {},
   "source": [
    "Na imagem acima, analisamos o elemento mais próximos. Ambos são roxos. Logo, podemos dizer que o novo dado também será roxo! Super simples!\n",
    "\n",
    "Experimente agora aumentar o número de vizinhos para, digamos, analizar os 3 mais próximos. O que acontece?"
   ]
  },
  {
   "cell_type": "code",
   "execution_count": null,
   "metadata": {},
   "outputs": [],
   "source": [
    "plt.scatter(X[:, 0], X[:, 1], c=Y)\n",
    "plt.scatter(p_x[:, 0], p_x[:, 1], c='k', marker='d')\n",
    "plt.grid()\n",
    "plt.gcf().gca().add_artist(plt.Circle((p_x[0,0],p_x[0,1]),1.7, fill=False))"
   ]
  },
  {
   "cell_type": "markdown",
   "metadata": {},
   "source": [
    "## Legal, mas só posso usar o *kNN* para classificar os elementos? E se eu quisesse, digamos, estimar preços de casas?\n",
    "\n",
    "Bom, vamos ver se dá certo! Imagine que temos o seguinte conjunto de casas, onde temos a área (em m²) e o preço de cada uma delas:"
   ]
  },
  {
   "cell_type": "code",
   "execution_count": null,
   "metadata": {},
   "outputs": [],
   "source": [
    "H = np.array([[100],\n",
    "[110],  \n",
    "[50],  \n",
    "[70],  \n",
    "[80],  \n",
    "[40],\n",
    "[100],\n",
    "[55],\n",
    "[75],\n",
    "[82]])\n",
    "\n",
    "P = np.array([400000, 410000, 240000, 300000, 310000, 220000, 390000, 280000, 320000, 330000])\n",
    "\n",
    "plt.scatter(H[:,0], P)\n",
    "plt.grid()"
   ]
  },
  {
   "cell_type": "markdown",
   "metadata": {},
   "source": [
    "Imagine agora que você encontrou uma casa com área de 65m² mas não sabe o preço. Ela pode ser de qualquer valor!"
   ]
  },
  {
   "cell_type": "code",
   "execution_count": null,
   "metadata": {},
   "outputs": [],
   "source": [
    "a = 65\n",
    "plt.scatter(H[:,0], P)\n",
    "plt.axvline(x=a,c=\"r\")\n",
    "plt.grid()"
   ]
  },
  {
   "cell_type": "markdown",
   "metadata": {},
   "source": [
    "Se calcularmos uma distância euclidiana (que, nesse caso, seria apenas a diferença) entre as áreas, temos a seguinte tabela:"
   ]
  },
  {
   "cell_type": "code",
   "execution_count": null,
   "metadata": {},
   "outputs": [],
   "source": [
    "df = pd.DataFrame(data=H)\n",
    "df['price'] = P\n",
    "df['dist'] = np.abs(H[:,0]-a)\n",
    "df = df.sort_values(by='dist')\n",
    "df"
   ]
  },
  {
   "cell_type": "markdown",
   "metadata": {},
   "source": [
    "Então, o que podemos fazer? Podemos usar o *kNN* para estimar o preço da casa? Se sim, como?"
   ]
  },
  {
   "cell_type": "code",
   "execution_count": null,
   "metadata": {},
   "outputs": [],
   "source": [
    "a = 89\n",
    "\n",
    "df = pd.DataFrame(data=H)\n",
    "df['price'] = P\n",
    "df['dist'] = np.abs(H[:,0]-a)\n",
    "df = df.sort_values(by='dist')\n",
    "\n",
    "p_mean = np.mean(df[\"price\"].values[0:5])\n",
    "p_median = np.median(df[\"price\"].values[0:5])\n",
    "\n",
    "plt.scatter(H[:,0], P)\n",
    "plt.scatter([a],[p_mean],c=\"r\")\n",
    "plt.scatter([a],[p_median],c=\"g\")\n",
    "plt.grid()"
   ]
  },
  {
   "cell_type": "markdown",
   "metadata": {},
   "source": [
    "## Tá, você me convenceu, *kNN* é legal. Mas implementar isso deve ser chato...\n",
    "\n",
    "Fazer queijo também dá trabalho, mas você não deixa de comer, certo? O que você faz? Pega um pronto!"
   ]
  },
  {
   "cell_type": "markdown",
   "metadata": {},
   "source": [
    "Existe uma biblioteca em python chamada Scikit-Learn que já traz isso tudo implementado. Para esses exemplos, precisamos importar apenas 2 módulos:"
   ]
  },
  {
   "cell_type": "code",
   "execution_count": null,
   "metadata": {},
   "outputs": [],
   "source": [
    "from sklearn.neighbors import KNeighborsClassifier\n",
    "from sklearn.neighbors import KNeighborsRegressor"
   ]
  },
  {
   "cell_type": "markdown",
   "metadata": {},
   "source": [
    "Agora, é só seguir 3 passos:\n",
    "* Criar o modelo desejado, informando o número de vizinhos a serem consultados\n",
    "* Ajustar seu modelo, mandando os dados que você já tem (*fit*)\n",
    "* Estimar o valor do novo dado utilizando o modelo treinado (*predict*)"
   ]
  },
  {
   "cell_type": "code",
   "execution_count": null,
   "metadata": {},
   "outputs": [],
   "source": [
    "model = KNeighborsClassifier(n_neighbors=3)\n",
    "model.fit(X, Y)\n",
    "print(\"Que cor deve ser pintado o elemento localizado na coordenada ({}, {})? {}\".\\\n",
    "      format(p_x[0,0], p_x[0,1], model.predict(p_x)[0]))"
   ]
  },
  {
   "cell_type": "code",
   "execution_count": null,
   "metadata": {},
   "outputs": [],
   "source": [
    "model = KNeighborsRegressor(n_neighbors=3)\n",
    "model.fit(H,P)\n",
    "print(\"Qual o preço da casa de área {} m²? {}\".\\\n",
    "      format(a, model.predict([[a]])[0]))"
   ]
  },
  {
   "cell_type": "markdown",
   "metadata": {},
   "source": [
    "## Alguns questionamentos interessantes:\n",
    "\n",
    "- Que valores de *k* devemos usar? Grandes? Pequenos? Médios?\n",
    "- É uma boa ideia utilizar como *k* o número total de dados?\n",
    "- Capitu traiu Bentinho?"
   ]
  },
  {
   "cell_type": "code",
   "execution_count": null,
   "metadata": {},
   "outputs": [],
   "source": [
    "from sklearn.neighbors import NearestCentroid\n",
    "model = NearestCentroid()\n",
    "model.fit(X, Y)\n",
    "print(\"Que cor deve ser pintado o elemento localizado na coordenada ({}, {})? {}\".\\\n",
    "      format(p_x[0,0], p_x[0,1], model.predict(p_x)[0]))"
   ]
  },
  {
   "cell_type": "code",
   "execution_count": null,
   "metadata": {},
   "outputs": [],
   "source": []
  }
 ],
 "metadata": {
  "kernelspec": {
   "display_name": "Python 3",
   "language": "python",
   "name": "python3"
  },
  "language_info": {
   "codemirror_mode": {
    "name": "ipython",
    "version": 3
   },
   "file_extension": ".py",
   "mimetype": "text/x-python",
   "name": "python",
   "nbconvert_exporter": "python",
   "pygments_lexer": "ipython3",
   "version": "3.7.3"
  }
 },
 "nbformat": 4,
 "nbformat_minor": 2
}
